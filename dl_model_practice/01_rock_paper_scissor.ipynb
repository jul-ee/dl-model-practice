{
  "nbformat": 4,
  "nbformat_minor": 0,
  "metadata": {
    "colab": {
      "provenance": []
    },
    "kernelspec": {
      "name": "python3",
      "display_name": "Python 3"
    },
    "language_info": {
      "name": "python"
    }
  },
  "cells": [
    {
      "cell_type": "markdown",
      "source": [
        "학습 목표\n",
        "\n",
        "- 이미 정제된 10개 클래스의 숫자 손글씨 데이터를 분류하는 classifier 만들기\n",
        "- 정제되지 않은 웹캠 사진으로부터 데이터 만들기\n",
        "- 흑백 사진이 아닌 컬러 사진을 학습하는 classifier 만들기\n",
        "- 분류하고자 하는 클래스의 개수를 조절하기\n",
        "\n",
        "<br>"
      ],
      "metadata": {
        "id": "r4qgYf_jOE4Z"
      }
    },
    {
      "cell_type": "markdown",
      "source": [
        "# 1. Mnist dataset 손글씨 분류"
      ],
      "metadata": {
        "id": "ngeOhF3P_qkp"
      }
    },
    {
      "cell_type": "markdown",
      "source": [
        "## 1.1 데이터 준비하기"
      ],
      "metadata": {
        "id": "qcNlez4w_tkU"
      }
    },
    {
      "cell_type": "markdown",
      "source": [
        "MNIST 숫자 이미지 데이터셋을 TensorFlow에서 불러오고, 학습용 데이터의 개수 확인하기\n",
        "\n",
        "- **TensorFlow / Keras**: 딥러닝 모델을 구성하고 학습하기 위한 주요 프레임워크이다. Keras는 TensorFlow 위에서 동작하는 고수준 API로, 모델 설계가 간편하다.\n",
        "- **MNIST**: 손글씨 숫자(0~9)로 구성된 이미지 데이터셋으로, 딥러닝 입문 실습에 가장 많이 사용되는 데이터이다.\n",
        "    - 총 70,000개의 28x28 픽셀 grayscale 이미지로 구성됨\n",
        "        - 학습용: 60,000장\n",
        "        - 테스트용: 10,000장\n",
        "- `mnist.load_data()`: 데이터셋을 `(x_train, y_train), (x_test, y_test)` 형식으로 반환한다.\n",
        "    - `x_train`: 학습 이미지 (28x28 크기의 넘파이 배열)\n",
        "    - `y_train`: 학습 이미지 각각에 대한 정답(타겟 레이블)을 담고 있는 1차원 배열\n",
        "    - MNIST 데이터셋의 X항목은 이미지 데이터를 담은 행렬(matrix)\n",
        "- `print(len(x_train))`: 전체 훈련 이미지의 개수를 확인합니다. (결과는 보통 60000)"
      ],
      "metadata": {
        "id": "UwH3mt_LXhWe"
      }
    },
    {
      "cell_type": "code",
      "execution_count": null,
      "metadata": {
        "colab": {
          "base_uri": "https://localhost:8080/"
        },
        "id": "csox4m-5joSx",
        "outputId": "69e27ccc-126c-4fc9-b9c1-9e82d30a74a2"
      },
      "outputs": [
        {
          "output_type": "stream",
          "name": "stdout",
          "text": [
            "2.18.0\n",
            "60000\n"
          ]
        }
      ],
      "source": [
        "# TensorFlow와 Keras 불러오기 (딥러닝 모델 구축 및 학습용)\n",
        "import tensorflow as tf\n",
        "from tensorflow import keras\n",
        "\n",
        "import numpy as np\n",
        "import matplotlib.pyplot as plt\n",
        "import os\n",
        "\n",
        "# TensorFlow 버전 출력 (환경 확인용)\n",
        "print(tf.__version__)\n",
        "\n",
        "# Keras 내장 MNIST 데이터셋 불러오기\n",
        "mnist = keras.datasets.mnist\n",
        "\n",
        "# 학습 데이터와 테스트 데이터를 각각 로드\n",
        "(x_train, y_train), (x_test, y_test) = mnist.load_data()\n",
        "\n",
        "# 학습용 이미지 수 출력\n",
        "print(len(x_train))"
      ]
    },
    {
      "cell_type": "code",
      "source": [
        "print(y_train[1])  # 학습용 데이터에서 두 번째 이미지의 정답 숫자 확인"
      ],
      "metadata": {
        "colab": {
          "base_uri": "https://localhost:8080/"
        },
        "id": "AMf0g7A27QEI",
        "outputId": "7e7db57e-e9ec-4ca9-adcb-2de0ae2ab8e3"
      },
      "execution_count": null,
      "outputs": [
        {
          "output_type": "stream",
          "name": "stdout",
          "text": [
            "0\n"
          ]
        }
      ]
    },
    {
      "cell_type": "code",
      "source": [
        "# x_train[1]: 두 번째 손글씨 이미지의 픽셀 값 (28x28 배열)\n",
        "# cmap=plt.cm.binary: 흑백 컬러맵을 사용하여 시각화\n",
        "plt.imshow(x_train[1],cmap=plt.cm.binary)\n",
        "plt.show()"
      ],
      "metadata": {
        "colab": {
          "base_uri": "https://localhost:8080/",
          "height": 430
        },
        "id": "aeXs_luvj74p",
        "outputId": "5cbcf0f7-1abc-4286-d0be-0a5f138ad0fc"
      },
      "execution_count": null,
      "outputs": [
        {
          "output_type": "display_data",
          "data": {
            "text/plain": [
              "<Figure size 640x480 with 1 Axes>"
            ],
            "image/png": "[encoded data removed]"
          },
          "metadata": {}
        }
      ]
    },
    {
      "cell_type": "markdown",
      "source": [
        "- 지정한 인덱스의 학습 이미지와 그에 해당하는 실제 숫자 라벨을 시각화하고 출력"
      ],
      "metadata": {
        "id": "JX1SleSi6rsA"
      }
    },
    {
      "cell_type": "code",
      "source": [
        "# 시각화할 이미지의 인덱스 지정 (0 ~ 59999 범위)\n",
        "index = 10000\n",
        "\n",
        "# 지정한 인덱스에 해당하는 손글씨 이미지를 흑백으로 출력\n",
        "plt.imshow(x_train[index], cmap=plt.cm.binary)\n",
        "plt.show()\n",
        "\n",
        "# 해당 인덱스 이미지의 실제 숫자 라벨 출력\n",
        "print((index+1), '번째 이미지의 숫자:', y_train[index])"
      ],
      "metadata": {
        "colab": {
          "base_uri": "https://localhost:8080/",
          "height": 448
        },
        "id": "5N0mRrb37ECG",
        "outputId": "ab5973f4-0f74-4933-ed53-b2f9024b8c4b"
      },
      "execution_count": null,
      "outputs": [
        {
          "output_type": "display_data",
          "data": {
            "text/plain": [
              "<Figure size 640x480 with 1 Axes>"
            ],
            "image/png": "[encoded data removed]"
          },
          "metadata": {}
        },
        {
          "output_type": "stream",
          "name": "stdout",
          "text": [
            "10001 번째 이미지의 숫자: 3\n"
          ]
        }
      ]
    },
    {
      "cell_type": "markdown",
      "source": [
        "<br>\n",
        "\n",
        "MNIST 이미지 데이터의 크기와 픽셀 범위 확인\n",
        "- (샘플 수, 이미지 크기)"
      ],
      "metadata": {
        "id": "miyNZ-_M7i2v"
      }
    },
    {
      "cell_type": "code",
      "source": [
        "print(x_train.shape)  # (60000, 28, 28) → 60,000개의 28x28 흑백 이미지"
      ],
      "metadata": {
        "colab": {
          "base_uri": "https://localhost:8080/"
        },
        "id": "umIlIKeJ7gTN",
        "outputId": "561a2c29-9f97-4efa-c1e9-7db94b73bee0"
      },
      "execution_count": null,
      "outputs": [
        {
          "output_type": "stream",
          "name": "stdout",
          "text": [
            "(60000, 28, 28)\n"
          ]
        }
      ]
    },
    {
      "cell_type": "code",
      "source": [
        "print(x_test.shape)  # (10000, 28, 28) → 10,000개의 테스트 이미지"
      ],
      "metadata": {
        "colab": {
          "base_uri": "https://localhost:8080/"
        },
        "id": "-onVGduY7pRa",
        "outputId": "42c6c4d4-6caa-459f-adc5-9088adbe19ac"
      },
      "execution_count": null,
      "outputs": [
        {
          "output_type": "stream",
          "name": "stdout",
          "text": [
            "(10000, 28, 28)\n"
          ]
        }
      ]
    },
    {
      "cell_type": "code",
      "source": [
        "# 픽셀값의 범위 확인 (MNIST는 0~255 사이의 정수값으로 구성됨)\n",
        "print('최소값:',np.min(x_train), ' 최대값:',np.max(x_train))"
      ],
      "metadata": {
        "colab": {
          "base_uri": "https://localhost:8080/"
        },
        "id": "GVTKJ8F476db",
        "outputId": "13deb349-68da-477a-d922-8ec40253f6d0"
      },
      "execution_count": null,
      "outputs": [
        {
          "output_type": "stream",
          "name": "stdout",
          "text": [
            "최소값: 0  최대값: 255\n"
          ]
        }
      ]
    },
    {
      "cell_type": "markdown",
      "source": [
        "<br>\n",
        "\n",
        "2차원 이미지 데이터를 1차원 벡터로 평탄화한 뒤, 이를 다시 원래 이미지처럼 28픽셀 단위로 콘솔에 출력하여 확인\n",
        "\n",
        "- 평탄화 이해: Dense 신경망의 입력으로 1D 벡터가 필요하다\n",
        "\n",
        "- 시각적 확인: 평탄화 후에도 데이터를 해석할 수 있다\n",
        "\n",
        "- 전처리 기반 이해: 이후 Flatten() 레이어와 연결됨\n",
        "\n"
      ],
      "metadata": {
        "id": "EvZuFjlgaMfs"
      }
    },
    {
      "cell_type": "code",
      "source": [
        "\"\"\"\n",
        "- flatten()\n",
        "  : 다차원 배열을 1차원 배열로 펼치는 함수\n",
        "  : CNN을 사용하지 않는 전통적인 신경망(MLP)에서는 2D 이미지 데이터를 1D로 평탄화한 후 입력으로 사용\n",
        "  e.g., 28x28 = 784개의 픽셀 → shape = (784,)\n",
        "\n",
        "- range(0, len(flat), 28)\n",
        "  : flat은 총 784개의 원소를 갖고 있고, 이는 28픽셀 × 28줄이라는 구조를 뜻함\n",
        "  : 반복문을 통해 28개씩 묶어 한 줄에 출력함으로써 이미지 형태를 유지한 채 콘솔로 시각화\n",
        "\n",
        "- f'{val:3}'\n",
        "  : 각 픽셀 값을 폭 3칸으로 고정해 깔끔하게 출력하기 위한 포맷팅입니다.\n",
        "  : 픽셀 값은 0~255 사이이므로 3자리면 충분\n",
        "\"\"\"\n",
        "\n",
        "# 학습용 이미지 중 두 번째 이미지 (28x28)를 평탄화하여 1차원 배열로 변환\n",
        "flat = x_train[1].flatten()  # 2D (28, 28) → 1D (784,)\n",
        "\n",
        "# 평탄화된 벡터를 다시 이미지 형태처럼 출력: 28개씩 끊어서 한 줄에 출력\n",
        "for i in range(0, len(flat), 28):\n",
        "    # 각 픽셀 값을 3자리 정수 형식으로 출력하고, 공백으로 구분하여 줄 출력\n",
        "    print(' '.join(f'{val:3}' for val in flat[i:i+28]))"
      ],
      "metadata": {
        "colab": {
          "base_uri": "https://localhost:8080/"
        },
        "id": "a-59I1BWkO5y",
        "outputId": "07f63b99-77ba-48dc-ce0d-5c79635a6247"
      },
      "execution_count": null,
      "outputs": [
        {
          "output_type": "stream",
          "name": "stdout",
          "text": [
            "  0   0   0   0   0   0   0   0   0   0   0   0   0   0   0   0   0   0   0   0   0   0   0   0   0   0   0   0\n",
            "  0   0   0   0   0   0   0   0   0   0   0   0   0   0   0   0   0   0   0   0   0   0   0   0   0   0   0   0\n",
            "  0   0   0   0   0   0   0   0   0   0   0   0   0   0   0   0   0   0   0   0   0   0   0   0   0   0   0   0\n",
            "  0   0   0   0   0   0   0   0   0   0   0   0   0   0   0   0   0   0   0   0   0   0   0   0   0   0   0   0\n",
            "  0   0   0   0   0   0   0   0   0   0   0   0   0   0   0  51 159 253 159  50   0   0   0   0   0   0   0   0\n",
            "  0   0   0   0   0   0   0   0   0   0   0   0   0   0  48 238 252 252 252 237   0   0   0   0   0   0   0   0\n",
            "  0   0   0   0   0   0   0   0   0   0   0   0   0  54 227 253 252 239 233 252  57   6   0   0   0   0   0   0\n",
            "  0   0   0   0   0   0   0   0   0   0   0  10  60 224 252 253 252 202  84 252 253 122   0   0   0   0   0   0\n",
            "  0   0   0   0   0   0   0   0   0   0   0 163 252 252 252 253 252 252  96 189 253 167   0   0   0   0   0   0\n",
            "  0   0   0   0   0   0   0   0   0   0  51 238 253 253 190 114 253 228  47  79 255 168   0   0   0   0   0   0\n",
            "  0   0   0   0   0   0   0   0   0  48 238 252 252 179  12  75 121  21   0   0 253 243  50   0   0   0   0   0\n",
            "  0   0   0   0   0   0   0   0  38 165 253 233 208  84   0   0   0   0   0   0 253 252 165   0   0   0   0   0\n",
            "  0   0   0   0   0   0   0   7 178 252 240  71  19  28   0   0   0   0   0   0 253 252 195   0   0   0   0   0\n",
            "  0   0   0   0   0   0   0  57 252 252  63   0   0   0   0   0   0   0   0   0 253 252 195   0   0   0   0   0\n",
            "  0   0   0   0   0   0   0 198 253 190   0   0   0   0   0   0   0   0   0   0 255 253 196   0   0   0   0   0\n",
            "  0   0   0   0   0   0  76 246 252 112   0   0   0   0   0   0   0   0   0   0 253 252 148   0   0   0   0   0\n",
            "  0   0   0   0   0   0  85 252 230  25   0   0   0   0   0   0   0   0   7 135 253 186  12   0   0   0   0   0\n",
            "  0   0   0   0   0   0  85 252 223   0   0   0   0   0   0   0   0   7 131 252 225  71   0   0   0   0   0   0\n",
            "  0   0   0   0   0   0  85 252 145   0   0   0   0   0   0   0  48 165 252 173   0   0   0   0   0   0   0   0\n",
            "  0   0   0   0   0   0  86 253 225   0   0   0   0   0   0 114 238 253 162   0   0   0   0   0   0   0   0   0\n",
            "  0   0   0   0   0   0  85 252 249 146  48  29  85 178 225 253 223 167  56   0   0   0   0   0   0   0   0   0\n",
            "  0   0   0   0   0   0  85 252 252 252 229 215 252 252 252 196 130   0   0   0   0   0   0   0   0   0   0   0\n",
            "  0   0   0   0   0   0  28 199 252 252 253 252 252 233 145   0   0   0   0   0   0   0   0   0   0   0   0   0\n",
            "  0   0   0   0   0   0   0  25 128 252 253 252 141  37   0   0   0   0   0   0   0   0   0   0   0   0   0   0\n",
            "  0   0   0   0   0   0   0   0   0   0   0   0   0   0   0   0   0   0   0   0   0   0   0   0   0   0   0   0\n",
            "  0   0   0   0   0   0   0   0   0   0   0   0   0   0   0   0   0   0   0   0   0   0   0   0   0   0   0   0\n",
            "  0   0   0   0   0   0   0   0   0   0   0   0   0   0   0   0   0   0   0   0   0   0   0   0   0   0   0   0\n",
            "  0   0   0   0   0   0   0   0   0   0   0   0   0   0   0   0   0   0   0   0   0   0   0   0   0   0   0   0\n"
          ]
        }
      ]
    },
    {
      "cell_type": "markdown",
      "source": [
        "이 784 (=28x28)개의 숫자는 딥러닝 모델의 입력 벡터가 된다. 모델은 이 숫자들을 패턴으로 해석하여 0~9 중 어떤 숫자인지를 예측하게 된다. CNN(합성곱 신경망)을 사용할 경우에는 평탄화 전의 28x28 형태 그대로 사용하지만, 전통적인 MLP(Dense 기반 네트워크)는 이와 같이 1차원 입력을 필요로 한다."
      ],
      "metadata": {
        "id": "nSBCaYs1cbLA"
      }
    },
    {
      "cell_type": "markdown",
      "source": [
        "<br>\n",
        "\n",
        "데이터를 0~1 사이의 실수로 정규화(Normalization)\n",
        "\n",
        "- 딥러닝 모델에서는 작은 입력값일수록 학습 안정성과 수렴 속도가 향상됨\n",
        "- 이는 특히 활성화 함수(ReLU, sigmoid 등)의 입력 범위와 관련이 깊음"
      ],
      "metadata": {
        "id": "V_F1umRJ8GhB"
      }
    },
    {
      "cell_type": "code",
      "source": [
        "# 데이터를 0~1 사이로 정규화 → 모델 학습의 효율성과 안정성 향상\n",
        "# 이후 학습 및 평가에 x_train_norm, x_test_norm 사용\n",
        "x_train_norm, x_test_norm = x_train / 255.0, x_test / 255.0\n",
        "print('최소값:',np.min(x_train_norm), ' 최대값:',np.max(x_train_norm))"
      ],
      "metadata": {
        "colab": {
          "base_uri": "https://localhost:8080/"
        },
        "id": "CHmNuvoG8C7V",
        "outputId": "c4db3071-f45c-4d3a-b3b8-d62cdd6d3476"
      },
      "execution_count": null,
      "outputs": [
        {
          "output_type": "stream",
          "name": "stdout",
          "text": [
            "최소값: 0.0  최대값: 1.0\n"
          ]
        }
      ]
    },
    {
      "cell_type": "code",
      "source": [],
      "metadata": {
        "id": "NblGHJfQ8d-3"
      },
      "execution_count": null,
      "outputs": []
    },
    {
      "cell_type": "code",
      "source": [],
      "metadata": {
        "id": "MmB_ZPQ38d8g"
      },
      "execution_count": null,
      "outputs": []
    },
    {
      "cell_type": "markdown",
      "source": [
        "<br>\n",
        "\n",
        "## 1.2 딥러닝 네트워크 설계하기\n",
        "\n",
        "MNIST 손글씨 숫자 이미지를 분류하기 위힌 **합성곱 신경망(CNN)** 구성\n",
        "- Sequential() 모델: 위애서 아래로 층을 순차적으로 쌓는 간단한 방식의 딥러닝 모델\n",
        "\n",
        "<br>\n",
        "\n",
        "- Conv2D, MaxPooling2D: 먼저 이미지에서 특징을 뽑아내는 단계:\n",
        "- Flatten: 그다음 계산하기 쉬운 형태로 바꾸는 단계\n",
        "- Dense: 마지막으로 숫자를 예측하는 단계\n",
        "\n",
        "| 구성요소                | 설명                                                                |\n",
        "| ------------------- | ----------------------------------------------------------------- |\n",
        "| Conv2D          | 필터를 이미지에 슬라이딩하여 로우레벨 특징(모서리, 질감) 추출. 필터 수가 많을수록 다양한 패턴을 포착 가능 |\n",
        "| MaxPooling2D    | 특징맵의 크기를 줄여 연산 효율 향상, 과적합 방지, 위치 불변성 부여               |\n",
        "| Flattern         | CNN의 출력(2D)을 Dense에 연결하기 위해 1D 벡터로 변환                         |\n",
        "| Dense           | 노드 간 모든 연결을 통해 정보 통합 및 추론 수행, ReLU는 활성화 함수                    |\n",
        "| Dense + Softmax | 최종 10개의 클래스 확률을 출력하는 분류용 출력층                              |\n",
        "\n",
        "<br>\n",
        "\n",
        "Sequential 모델\n",
        "- 층을 순서대로 쌓는 방식\n",
        "- 복잡한 구조(e.g., 여러 입력, skip connection 등)는 못하지만, 기본적인 CNN, MLP에는 적합\n",
        "\n",
        "CNN(합성곱 신경망)의 구조\n",
        "- CNN은 이미지나 시계열과 같이 공간 정보가 중요한 데이터에 적합\n",
        "- 구성 순서\n",
        "    ```\n",
        "    Conv → Pooling → (Conv → Pooling) → Flatten → Dense → Output\n",
        "    ```\n",
        "\n"
      ],
      "metadata": {
        "id": "au3X6jzk8f7m"
      }
    },
    {
      "cell_type": "code",
      "source": [
        "# Sequential 모델 생성: 층을 순차적으로 추가할 수 있는 기본 구조\n",
        "model=keras.models.Sequential()\n",
        "# 입력 이미지(28x28, 채널 1)를 받아 3x3 필터 16개로 합성곱 연산 수행\n",
        "# 활성화 함수로 ReLU 사용 → 비선형성 부여\n",
        "# 특징 추출 시작 (Edge, 선, 점 등 로우레벨 특징)\n",
        "model.add(keras.layers.Conv2D(16, (3,3), activation='relu', input_shape=(28,28,1)))\n",
        "# 2x2 크기의 필터로 MaxPooling → 공간적 크기를 절반으로 줄임\n",
        "# 연산량 감소 + 과적합 방지 효과\n",
        "model.add(keras.layers.MaxPool2D(2,2))\n",
        "# 두 번째 합성곱 층: 더 많은 필터(32개)로 더 복잡한 패턴 추출\n",
        "model.add(keras.layers.Conv2D(32, (3,3), activation='relu'))\n",
        "# 다시 2x2로 MaxPooling → 특성맵 크기 감소, 추상화 강화\n",
        "model.add(keras.layers.MaxPooling2D((2,2)))\n",
        "# 다차원(2D) 특성맵을 1차원 벡터로 변환 → Fully Connected Layer로 전달\n",
        "model.add(keras.layers.Flatten())\n",
        "# 은닉층(Dense): 노드 32개, ReLU 사용 → Flatten한 특징 벡터를 추상화\n",
        "model.add(keras.layers.Dense(32, activation='relu'))\n",
        "# 출력층: 10개 노드 (0~9 숫자 클래스), Softmax로 각 클래스 확률 출력\n",
        "model.add(keras.layers.Dense(10, activation='softmax'))\n",
        "\n",
        "# 총 Layer 개수 출력\n",
        "#  - 총 7개: Conv2D, MaxPool, Conv2D, MaxPool, Flatten, Dense, Dense)\n",
        "print('Model에 추가된 Layer 개수: ', len(model.layers))"
      ],
      "metadata": {
        "colab": {
          "base_uri": "https://localhost:8080/"
        },
        "id": "BplS6hgYpIYe",
        "outputId": "7384cf32-82ed-49f0-f394-535c4624f937"
      },
      "execution_count": null,
      "outputs": [
        {
          "output_type": "stream",
          "name": "stdout",
          "text": [
            "Model에 추가된 Layer 개수:  7\n"
          ]
        },
        {
          "output_type": "stream",
          "name": "stderr",
          "text": [
            "/usr/local/lib/python3.11/dist-packages/keras/src/layers/convolutional/base_conv.py:107: UserWarning: Do not pass an `input_shape`/`input_dim` argument to a layer. When using Sequential models, prefer using an `Input(shape)` object as the first layer in the model instead.\n",
            "  super().__init__(activity_regularizer=activity_regularizer, **kwargs)\n"
          ]
        }
      ]
    },
    {
      "cell_type": "markdown",
      "source": [
        "<br>\n",
        "\n",
        "딥러닝 모델의 구조 요약 정보 확인\n",
        "\n",
        "- Layer(type)\n",
        "    - 레이어 이름과 종류 (Conv2D, Dense 등)\n",
        "- Output Shape\n",
        "    - 해당 레이어의 출력 텐서 형태 (배치 차원 None은 입력에 따라 결정됨)\n",
        "- Param #\n",
        "    - 해당 레이어의 학습 가능한 파라미터 개수 (weights + biases)"
      ],
      "metadata": {
        "id": "5_CalT_v-PwK"
      }
    },
    {
      "cell_type": "code",
      "source": [
        "model.summary()"
      ],
      "metadata": {
        "colab": {
          "base_uri": "https://localhost:8080/",
          "height": 364
        },
        "id": "BLIZXlXEpJwC",
        "outputId": "d85be9c0-c14a-453d-b7dc-a21e28e71db5"
      },
      "execution_count": null,
      "outputs": [
        {
          "output_type": "display_data",
          "data": {
            "text/plain": [
              "\u001b[1mModel: \"sequential_5\"\u001b[0m\n"
            ],
            "text/html": [
              "<pre style=\"white-space:pre;overflow-x:auto;line-height:normal;font-family:Menlo,'DejaVu Sans Mono',consolas,'Courier New',monospace\"><span style=\"font-weight: bold\">Model: \"sequential_5\"</span>\n",
              "</pre>\n"
            ]
          },
          "metadata": {}
        },
        {
          "output_type": "display_data",
          "data": {
            "text/plain": [
              "┏━━━━━━━━━━━━━━━━━━━━━━━━━━━━━━━━━┳━━━━━━━━━━━━━━━━━━━━━━━━┳━━━━━━━━━━━━━━━┓\n",
              "┃\u001b[1m \u001b[0m\u001b[1mLayer (type)                   \u001b[0m\u001b[1m \u001b[0m┃\u001b[1m \u001b[0m\u001b[1mOutput Shape          \u001b[0m\u001b[1m \u001b[0m┃\u001b[1m \u001b[0m\u001b[1m      Param #\u001b[0m\u001b[1m \u001b[0m┃\n",
              "┡━━━━━━━━━━━━━━━━━━━━━━━━━━━━━━━━━╇━━━━━━━━━━━━━━━━━━━━━━━━╇━━━━━━━━━━━━━━━┩\n",
              "│ conv2d_10 (\u001b[38;5;33mConv2D\u001b[0m)              │ (\u001b[38;5;45mNone\u001b[0m, \u001b[38;5;34m26\u001b[0m, \u001b[38;5;34m26\u001b[0m, \u001b[38;5;34m16\u001b[0m)     │           \u001b[38;5;34m160\u001b[0m │\n",
              "├─────────────────────────────────┼────────────────────────┼───────────────┤\n",
              "│ max_pooling2d_10 (\u001b[38;5;33mMaxPooling2D\u001b[0m) │ (\u001b[38;5;45mNone\u001b[0m, \u001b[38;5;34m13\u001b[0m, \u001b[38;5;34m13\u001b[0m, \u001b[38;5;34m16\u001b[0m)     │             \u001b[38;5;34m0\u001b[0m │\n",
              "├─────────────────────────────────┼────────────────────────┼───────────────┤\n",
              "│ conv2d_11 (\u001b[38;5;33mConv2D\u001b[0m)              │ (\u001b[38;5;45mNone\u001b[0m, \u001b[38;5;34m11\u001b[0m, \u001b[38;5;34m11\u001b[0m, \u001b[38;5;34m32\u001b[0m)     │         \u001b[38;5;34m4,640\u001b[0m │\n",
              "├─────────────────────────────────┼────────────────────────┼───────────────┤\n",
              "│ max_pooling2d_11 (\u001b[38;5;33mMaxPooling2D\u001b[0m) │ (\u001b[38;5;45mNone\u001b[0m, \u001b[38;5;34m5\u001b[0m, \u001b[38;5;34m5\u001b[0m, \u001b[38;5;34m32\u001b[0m)       │             \u001b[38;5;34m0\u001b[0m │\n",
              "├─────────────────────────────────┼────────────────────────┼───────────────┤\n",
              "│ flatten_5 (\u001b[38;5;33mFlatten\u001b[0m)             │ (\u001b[38;5;45mNone\u001b[0m, \u001b[38;5;34m800\u001b[0m)            │             \u001b[38;5;34m0\u001b[0m │\n",
              "├─────────────────────────────────┼────────────────────────┼───────────────┤\n",
              "│ dense_10 (\u001b[38;5;33mDense\u001b[0m)                │ (\u001b[38;5;45mNone\u001b[0m, \u001b[38;5;34m32\u001b[0m)             │        \u001b[38;5;34m25,632\u001b[0m │\n",
              "├─────────────────────────────────┼────────────────────────┼───────────────┤\n",
              "│ dense_11 (\u001b[38;5;33mDense\u001b[0m)                │ (\u001b[38;5;45mNone\u001b[0m, \u001b[38;5;34m10\u001b[0m)             │           \u001b[38;5;34m330\u001b[0m │\n",
              "└─────────────────────────────────┴────────────────────────┴───────────────┘\n"
            ],
            "text/html": [
              "<pre style=\"white-space:pre;overflow-x:auto;line-height:normal;font-family:Menlo,'DejaVu Sans Mono',consolas,'Courier New',monospace\">┏━━━━━━━━━━━━━━━━━━━━━━━━━━━━━━━━━┳━━━━━━━━━━━━━━━━━━━━━━━━┳━━━━━━━━━━━━━━━┓\n",
              "┃<span style=\"font-weight: bold\"> Layer (type)                    </span>┃<span style=\"font-weight: bold\"> Output Shape           </span>┃<span style=\"font-weight: bold\">       Param # </span>┃\n",
              "┡━━━━━━━━━━━━━━━━━━━━━━━━━━━━━━━━━╇━━━━━━━━━━━━━━━━━━━━━━━━╇━━━━━━━━━━━━━━━┩\n",
              "│ conv2d_10 (<span style=\"color: #0087ff; text-decoration-color: #0087ff\">Conv2D</span>)              │ (<span style=\"color: #00d7ff; text-decoration-color: #00d7ff\">None</span>, <span style=\"color: #00af00; text-decoration-color: #00af00\">26</span>, <span style=\"color: #00af00; text-decoration-color: #00af00\">26</span>, <span style=\"color: #00af00; text-decoration-color: #00af00\">16</span>)     │           <span style=\"color: #00af00; text-decoration-color: #00af00\">160</span> │\n",
              "├─────────────────────────────────┼────────────────────────┼───────────────┤\n",
              "│ max_pooling2d_10 (<span style=\"color: #0087ff; text-decoration-color: #0087ff\">MaxPooling2D</span>) │ (<span style=\"color: #00d7ff; text-decoration-color: #00d7ff\">None</span>, <span style=\"color: #00af00; text-decoration-color: #00af00\">13</span>, <span style=\"color: #00af00; text-decoration-color: #00af00\">13</span>, <span style=\"color: #00af00; text-decoration-color: #00af00\">16</span>)     │             <span style=\"color: #00af00; text-decoration-color: #00af00\">0</span> │\n",
              "├─────────────────────────────────┼────────────────────────┼───────────────┤\n",
              "│ conv2d_11 (<span style=\"color: #0087ff; text-decoration-color: #0087ff\">Conv2D</span>)              │ (<span style=\"color: #00d7ff; text-decoration-color: #00d7ff\">None</span>, <span style=\"color: #00af00; text-decoration-color: #00af00\">11</span>, <span style=\"color: #00af00; text-decoration-color: #00af00\">11</span>, <span style=\"color: #00af00; text-decoration-color: #00af00\">32</span>)     │         <span style=\"color: #00af00; text-decoration-color: #00af00\">4,640</span> │\n",
              "├─────────────────────────────────┼────────────────────────┼───────────────┤\n",
              "│ max_pooling2d_11 (<span style=\"color: #0087ff; text-decoration-color: #0087ff\">MaxPooling2D</span>) │ (<span style=\"color: #00d7ff; text-decoration-color: #00d7ff\">None</span>, <span style=\"color: #00af00; text-decoration-color: #00af00\">5</span>, <span style=\"color: #00af00; text-decoration-color: #00af00\">5</span>, <span style=\"color: #00af00; text-decoration-color: #00af00\">32</span>)       │             <span style=\"color: #00af00; text-decoration-color: #00af00\">0</span> │\n",
              "├─────────────────────────────────┼────────────────────────┼───────────────┤\n",
              "│ flatten_5 (<span style=\"color: #0087ff; text-decoration-color: #0087ff\">Flatten</span>)             │ (<span style=\"color: #00d7ff; text-decoration-color: #00d7ff\">None</span>, <span style=\"color: #00af00; text-decoration-color: #00af00\">800</span>)            │             <span style=\"color: #00af00; text-decoration-color: #00af00\">0</span> │\n",
              "├─────────────────────────────────┼────────────────────────┼───────────────┤\n",
              "│ dense_10 (<span style=\"color: #0087ff; text-decoration-color: #0087ff\">Dense</span>)                │ (<span style=\"color: #00d7ff; text-decoration-color: #00d7ff\">None</span>, <span style=\"color: #00af00; text-decoration-color: #00af00\">32</span>)             │        <span style=\"color: #00af00; text-decoration-color: #00af00\">25,632</span> │\n",
              "├─────────────────────────────────┼────────────────────────┼───────────────┤\n",
              "│ dense_11 (<span style=\"color: #0087ff; text-decoration-color: #0087ff\">Dense</span>)                │ (<span style=\"color: #00d7ff; text-decoration-color: #00d7ff\">None</span>, <span style=\"color: #00af00; text-decoration-color: #00af00\">10</span>)             │           <span style=\"color: #00af00; text-decoration-color: #00af00\">330</span> │\n",
              "└─────────────────────────────────┴────────────────────────┴───────────────┘\n",
              "</pre>\n"
            ]
          },
          "metadata": {}
        },
        {
          "output_type": "display_data",
          "data": {
            "text/plain": [
              "\u001b[1m Total params: \u001b[0m\u001b[38;5;34m30,762\u001b[0m (120.16 KB)\n"
            ],
            "text/html": [
              "<pre style=\"white-space:pre;overflow-x:auto;line-height:normal;font-family:Menlo,'DejaVu Sans Mono',consolas,'Courier New',monospace\"><span style=\"font-weight: bold\"> Total params: </span><span style=\"color: #00af00; text-decoration-color: #00af00\">30,762</span> (120.16 KB)\n",
              "</pre>\n"
            ]
          },
          "metadata": {}
        },
        {
          "output_type": "display_data",
          "data": {
            "text/plain": [
              "\u001b[1m Trainable params: \u001b[0m\u001b[38;5;34m30,762\u001b[0m (120.16 KB)\n"
            ],
            "text/html": [
              "<pre style=\"white-space:pre;overflow-x:auto;line-height:normal;font-family:Menlo,'DejaVu Sans Mono',consolas,'Courier New',monospace\"><span style=\"font-weight: bold\"> Trainable params: </span><span style=\"color: #00af00; text-decoration-color: #00af00\">30,762</span> (120.16 KB)\n",
              "</pre>\n"
            ]
          },
          "metadata": {}
        },
        {
          "output_type": "display_data",
          "data": {
            "text/plain": [
              "\u001b[1m Non-trainable params: \u001b[0m\u001b[38;5;34m0\u001b[0m (0.00 B)\n"
            ],
            "text/html": [
              "<pre style=\"white-space:pre;overflow-x:auto;line-height:normal;font-family:Menlo,'DejaVu Sans Mono',consolas,'Courier New',monospace\"><span style=\"font-weight: bold\"> Non-trainable params: </span><span style=\"color: #00af00; text-decoration-color: #00af00\">0</span> (0.00 B)\n",
              "</pre>\n"
            ]
          },
          "metadata": {}
        }
      ]
    },
    {
      "cell_type": "markdown",
      "source": [
        "\n",
        "이 모델은 28x28 이미지에서 두 번의 합성곱-풀링을 거친 뒤, 완전연결층(Dense)을 통해 10개의 숫자 클래스로 분류한다. 전체 3만여 개의 파라미터를 학습하며, 간단한 구조로 MNIST 분류에 적합하다.\n",
        "\n",
        "<br>\n",
        "\n",
        "| 층 | 층 이름           | 출력 형태 | 파라미터 수  | 쉬운 설명                                                                    |\n",
        "| ---- | -------------- | -------------------- | ------- | ------------------------------------------------------------------------ |\n",
        "| 1    | `Conv2D`       | `(26, 26, 16)`       | 160개    | 3x3 크기 필터 16개가 이미지 특징을 추출합니다. 이미지가 약간 작아진 이유는 경계처리(padding)를 안 했기 때문입니다. |\n",
        "| 2    | `MaxPooling2D` | `(13, 13, 16)`       | 0개      | 특징을 반으로 줄여 계산량을 줄이고 중요한 정보만 남깁니다.                                        |\n",
        "| 3    | `Conv2D`       | `(11, 11, 32)`       | 4,640개  | 이번엔 32개의 필터로 더 많은 특징을 뽑아냅니다.                                             |\n",
        "| 4    | `MaxPooling2D` | `(5, 5, 32)`         | 0개      | 또 한 번 줄여서 더 간단하게 만듭니다.                                                   |\n",
        "| 5    | `Flatten`      | `(800,)`             | 0개      | 5×5×32개의 숫자를 한 줄로 펼칩니다. 즉, 800차원 벡터가 됩니다.                                |\n",
        "| 6    | `Dense`        | `(32,)`              | 25,632개 | 800개 숫자를 받아서 32개의 숫자로 압축합니다.                                             |\n",
        "| 7    | `Dense`        | `(10,)`              | 330개    | 마지막으로 0\\~9 중 어떤 숫자인지 확률로 나타냅니다. softmax 함수가 쓰입니다.                        |\n",
        "\n",
        "<br>\n",
        "\n",
        "\n"
      ],
      "metadata": {
        "id": "DpWnwDpyfX8u"
      }
    },
    {
      "cell_type": "code",
      "source": [
        "print(x_train.shape)"
      ],
      "metadata": {
        "colab": {
          "base_uri": "https://localhost:8080/"
        },
        "id": "Nd5Ko8CU-hvs",
        "outputId": "bcdb0833-986a-4d1e-edaa-6c5a6168e572"
      },
      "execution_count": null,
      "outputs": [
        {
          "output_type": "stream",
          "name": "stdout",
          "text": [
            "(60000, 28, 28)\n"
          ]
        }
      ]
    },
    {
      "cell_type": "code",
      "source": [],
      "metadata": {
        "id": "LbxbrGx2ADiz"
      },
      "execution_count": null,
      "outputs": []
    },
    {
      "cell_type": "code",
      "source": [],
      "metadata": {
        "id": "wbwBMxcrADgt"
      },
      "execution_count": null,
      "outputs": []
    },
    {
      "cell_type": "markdown",
      "source": [
        "<br>\n",
        "\n",
        "## 1.3 딥러닝 네트워크 학습시키기"
      ],
      "metadata": {
        "id": "fqpgisyt__VC"
      }
    },
    {
      "cell_type": "markdown",
      "source": [
        "CNN 모델에 입력하기 위해 학습/테스트 이미지를 4차원 형태 (샘플 수, 28, 28, 1)로 reshape(변환)\n",
        "- CNN은 4차원 입력을 요구함\n",
        "- 따라서 3차원 배열 (60000, 28, 28) → 4차원 (60000, 28, 28, 1)로 바꾸는 작업이 필요함\n",
        "\n",
        "\n",
        "\n",
        "\n",
        "\n"
      ],
      "metadata": {
        "id": "cSOe-bK2-nLX"
      }
    },
    {
      "cell_type": "code",
      "source": [
        "# reshape 전 이미지 데이터 형태 출력 (정규화된 상태)\n",
        "print(f'Before Reshape - x_train_norm shape: {x_train_norm.shape}')  # 예: (60000, 28, 28)\n",
        "print(f'Before Reshape - x_test_norm shape: {x_test_norm.shape}')    # 예: (10000, 28, 28)\n",
        "\n",
        "# CNN 모델 입력을 위한 4차원 텐서로 변환\n",
        "# -1: 샘플 수를 자동으로 계산, 28x28: 이미지 크기, 1: 채널 수(흑백 이미지)\n",
        "x_train_reshaped = x_train_norm.reshape(-1, 28, 28, 1)\n",
        "x_test_reshaped = x_test_norm.reshape(-1, 28, 28, 1)\n",
        "\n",
        "# reshape 후 이미지 데이터 형태 출력\n",
        "print(f'After Reshape - x_train_reshaped shape: {x_train_reshaped.shape}')  # 예: (60000, 28, 28, 1)\n",
        "print(f'After Reshape - x_test_reshaped shape: {x_test_reshaped.shape}')"
      ],
      "metadata": {
        "colab": {
          "base_uri": "https://localhost:8080/"
        },
        "id": "7WO-t_rZrAp9",
        "outputId": "a46d184c-a506-4be7-88e1-e6af6925d933"
      },
      "execution_count": null,
      "outputs": [
        {
          "output_type": "stream",
          "name": "stdout",
          "text": [
            "Before Reshape - x_train_norm shape: (60000, 28, 28)\n",
            "Before Reshape - x_test_norm shape: (10000, 28, 28)\n",
            "After Reshape - x_train_reshaped shape: (60000, 28, 28, 1)\n",
            "After Reshape - x_test_reshaped shape: (10000, 28, 28, 1)\n"
          ]
        }
      ]
    },
    {
      "cell_type": "markdown",
      "source": [
        "<br>\n",
        "\n",
        "x_train 학습 데이터로 딥러닝 네트워크를 학습\n",
        "- CNN 모델을 컴파일하고, 10번(epoch) 동안 학습 데이터를 이용해 모델을 학습시킴\n",
        "- 각 학습이 진행됨에 따라 epoch 별로 어느 정도 인식 정확도(accuracy)가 올라가는지 확인할 수 있음"
      ],
      "metadata": {
        "id": "XjuipSDc-xgk"
      }
    },
    {
      "cell_type": "code",
      "source": [
        "# 모델 컴파일 (학습을 위한 설정)\n",
        "model.compile(\n",
        "    optimizer='adam',                        # Adam: 학습률을 자동으로 조정해주는 최적화 알고리즘\n",
        "    loss='sparse_categorical_crossentropy',  # 다중 클래스 분류에서 정수 레이블을 사용할 때 적합한 손실 함수\n",
        "    metrics=['accuracy']                     # 모델 평가 지표로 정확도(accuracy) 사용\n",
        ")\n",
        "\n",
        "# 모델 학습 수행\n",
        "#  - x_train_reshaped: (60000, 28, 28, 1) → CNN 입력 형식에 맞춘 학습 데이터\n",
        "#  - y_train: 정답 레이블 (0~9 정수)\n",
        "#  - epochs=10: 전체 데이터를 10번 반복하여 학습\n",
        "model.fit(x_train_reshaped, y_train, epochs=10)"
      ],
      "metadata": {
        "colab": {
          "base_uri": "https://localhost:8080/"
        },
        "id": "5WoERgPMrCS9",
        "outputId": "3927ecd9-379a-4671-bb68-01ec565246e7"
      },
      "execution_count": null,
      "outputs": [
        {
          "output_type": "stream",
          "name": "stdout",
          "text": [
            "Epoch 1/10\n",
            "\u001b[1m1875/1875\u001b[0m \u001b[32m━━━━━━━━━━━━━━━━━━━━\u001b[0m\u001b[37m\u001b[0m \u001b[1m41s\u001b[0m 21ms/step - accuracy: 0.8734 - loss: 0.4233\n",
            "Epoch 2/10\n",
            "\u001b[1m1875/1875\u001b[0m \u001b[32m━━━━━━━━━━━━━━━━━━━━\u001b[0m\u001b[37m\u001b[0m \u001b[1m33s\u001b[0m 18ms/step - accuracy: 0.9789 - loss: 0.0696\n",
            "Epoch 3/10\n",
            "\u001b[1m1875/1875\u001b[0m \u001b[32m━━━━━━━━━━━━━━━━━━━━\u001b[0m\u001b[37m\u001b[0m \u001b[1m34s\u001b[0m 18ms/step - accuracy: 0.9852 - loss: 0.0472\n",
            "Epoch 4/10\n",
            "\u001b[1m1875/1875\u001b[0m \u001b[32m━━━━━━━━━━━━━━━━━━━━\u001b[0m\u001b[37m\u001b[0m \u001b[1m42s\u001b[0m 19ms/step - accuracy: 0.9882 - loss: 0.0375\n",
            "Epoch 5/10\n",
            "\u001b[1m1875/1875\u001b[0m \u001b[32m━━━━━━━━━━━━━━━━━━━━\u001b[0m\u001b[37m\u001b[0m \u001b[1m32s\u001b[0m 17ms/step - accuracy: 0.9908 - loss: 0.0289\n",
            "Epoch 6/10\n",
            "\u001b[1m1875/1875\u001b[0m \u001b[32m━━━━━━━━━━━━━━━━━━━━\u001b[0m\u001b[37m\u001b[0m \u001b[1m32s\u001b[0m 17ms/step - accuracy: 0.9919 - loss: 0.0247\n",
            "Epoch 7/10\n",
            "\u001b[1m1875/1875\u001b[0m \u001b[32m━━━━━━━━━━━━━━━━━━━━\u001b[0m\u001b[37m\u001b[0m \u001b[1m43s\u001b[0m 18ms/step - accuracy: 0.9928 - loss: 0.0209\n",
            "Epoch 8/10\n",
            "\u001b[1m1875/1875\u001b[0m \u001b[32m━━━━━━━━━━━━━━━━━━━━\u001b[0m\u001b[37m\u001b[0m \u001b[1m39s\u001b[0m 17ms/step - accuracy: 0.9941 - loss: 0.0174\n",
            "Epoch 9/10\n",
            "\u001b[1m1875/1875\u001b[0m \u001b[32m━━━━━━━━━━━━━━━━━━━━\u001b[0m\u001b[37m\u001b[0m \u001b[1m41s\u001b[0m 17ms/step - accuracy: 0.9952 - loss: 0.0138\n",
            "Epoch 10/10\n",
            "\u001b[1m1875/1875\u001b[0m \u001b[32m━━━━━━━━━━━━━━━━━━━━\u001b[0m\u001b[37m\u001b[0m \u001b[1m32s\u001b[0m 17ms/step - accuracy: 0.9959 - loss: 0.0120\n"
          ]
        },
        {
          "output_type": "execute_result",
          "data": {
            "text/plain": [
              "<keras.src.callbacks.history.History at 0x7cddb589af10>"
            ]
          },
          "metadata": {},
          "execution_count": 54
        }
      ]
    },
    {
      "cell_type": "markdown",
      "source": [
        "손실값(loss)은 계속 감소하고, 정확도(accuracy)는 거의 99.7%까지 증가함\n",
        "- 학습 데이터에 대해서는 거의 완벽하게 예측할 수 있는 상태에 도달했음을 의미\n",
        "\n",
        "⇒ 학습 정확도가 높다고 해서 테스트셋에서도 성능이 보장되는 건 아님. 과적합 여부를 확인하려면 model.evaluate() 결과도 함께 봐야 함\n",
        "\n",
        "⇒ History 객체(`<keras.src.callbacks.history.History at 0x...>`)는 학습 이력을 담고 있어, 나중에 history.history로 시각화도 가능\n"
      ],
      "metadata": {
        "id": "Js3J4bKwAQXq"
      }
    },
    {
      "cell_type": "code",
      "source": [],
      "metadata": {
        "id": "5apT3O2D_jws"
      },
      "execution_count": null,
      "outputs": []
    },
    {
      "cell_type": "code",
      "source": [],
      "metadata": {
        "id": "vRkPG2r7_juJ"
      },
      "execution_count": null,
      "outputs": []
    },
    {
      "cell_type": "markdown",
      "source": [
        "<br>\n",
        "\n",
        "## 1.4 테스트 데이터로 성능 확인\n",
        "\n",
        "학습된 모델을 테스트 데이터에 대해 평가하여 손실(loss)과 정확도(accuracy) 확인\n",
        "\n"
      ],
      "metadata": {
        "id": "3bK8HTr0_j_T"
      }
    },
    {
      "cell_type": "code",
      "source": [
        "# 테스트 데이터셋을 이용해 모델 성능 평가\n",
        "#  - x_test_reshaped: CNN 입력 형식에 맞게 reshape된 테스트 이미지 (10000, 28, 28, 1)\n",
        "#  - y_test: 실제 정답 라벨 (0~9)\n",
        "#  - verbose=2: 평가 과정에서 한 줄 요약 출력\n",
        "test_loss, test_accuracy = model.evaluate(x_test_reshaped, y_test, verbose=2)\n",
        "\n",
        "# 테스트 결과 출력\n",
        "print(f'test_loss: {test_loss}')           # 손실값 (작을수록 좋음)\n",
        "print(f'test_accuracy: {test_accuracy}')   # 정확도 (클수록 좋음)"
      ],
      "metadata": {
        "colab": {
          "base_uri": "https://localhost:8080/"
        },
        "id": "xtXajvIArYNo",
        "outputId": "451aadf4-aecc-4a1e-94b0-130e06803fdc"
      },
      "execution_count": null,
      "outputs": [
        {
          "output_type": "stream",
          "name": "stdout",
          "text": [
            "313/313 - 2s - 6ms/step - accuracy: 0.9857 - loss: 0.0435\n",
            "test_loss: 0.04353205859661102\n",
            "test_accuracy: 0.9857000112533569\n"
          ]
        }
      ]
    },
    {
      "cell_type": "markdown",
      "source": [
        "테스트 데이터에 대한 인식 정확도(accuracy)는 0.9857로 소폭 하락했다. 학습할 때마다 test_loss, test_accuracy 도 변동된다.\n",
        "\n",
        "위 MNIST 데이터셋 참고문헌을 보면 학습용 데이터와 시험용 데이터의 손글씨 주인이 다른 것을 알 수 있다. 즉, 한 번도 본 적이 없는 필체의 손글씨가 섞여 있을 가능성이 높다. 인식률이 떨어지는 것은 어느 정도 예상 가능한 일이다."
      ],
      "metadata": {
        "id": "w-ZnfyyTAgT-"
      }
    },
    {
      "cell_type": "markdown",
      "source": [
        "\n",
        "\n",
        "<br>\n",
        "\n",
        "학습된 모델이 테스트 데이터를 입력받아 숫자를 추론한 결과 출력\n",
        "- 모델이 출력한 확률 분포와, 가장 가능성이 높은 예측 클래스, 실제 정답을 비교\n",
        "\n"
      ],
      "metadata": {
        "id": "GzVswpo9Aqyz"
      }
    },
    {
      "cell_type": "code",
      "source": [
        "# 테스트 이미지에 대해 예측 수행\n",
        "# : 각 이미지에 대해 0~9 클래스별 확률(예측 결과) 반환\n",
        "# : (10000, 10) 형태의 배열이 출력\n",
        "#   → 각 행은 10개의 숫자(0~9)에 대한 확률값\n",
        "predicted_result = model.predict(x_test_reshaped)\n",
        "\n",
        "# 확률 배열(예측 결과) 중 가장 높은 확률값을 가진 클래스 인덱스 반환\n",
        "predicted_labels = np.argmax(predicted_result, axis=1)  # axis=1 → 각 행(이미지)에 대해 최대값의 인덱스 선택\n",
        "\n",
        "# 예측 결과를 직접 확인하기 위한 인덱스 설정\n",
        "idx = 0\n",
        "\n",
        "# 모델이 출력한 0~9 숫자에 대한 확률값 배열 출력 → 벡터 형태\n",
        "print('model.predict() 결과: ', predicted_result[idx])\n",
        "# 모델이 가장 가능성 높게 예측한 클래스 번호 출력\n",
        "print('model이 추론한 가장 가능성이 높은 결과: ', predicted_labels[idx])\n",
        "# 실제 정답 레이블 출력\n",
        "print('실제 데이터의 라벨: ', y_test[idx])"
      ],
      "metadata": {
        "colab": {
          "base_uri": "https://localhost:8080/"
        },
        "id": "ljcY0Mo2rY3G",
        "outputId": "0cce5607-40e3-46de-c9e1-63c48b88b462"
      },
      "execution_count": null,
      "outputs": [
        {
          "output_type": "stream",
          "name": "stdout",
          "text": [
            "\u001b[1m313/313\u001b[0m \u001b[32m━━━━━━━━━━━━━━━━━━━━\u001b[0m\u001b[37m\u001b[0m \u001b[1m2s\u001b[0m 6ms/step\n",
            "model.predict() 결과 :  [3.19225819e-07 1.06489765e-07 1.21569219e-05 5.04783338e-06\n",
            " 1.20160564e-07 1.96726347e-07 6.35414013e-11 9.99981701e-01\n",
            " 4.14569357e-08 2.43128085e-07]\n",
            "model이 추론한 가장 가능성이 높은 결과 :  7\n",
            "실제 데이터의 라벨 :  7\n"
          ]
        }
      ]
    },
    {
      "cell_type": "markdown",
      "source": [
        "예측 값이 일치하는지 확인\n",
        "- 테스트셋의 특정 이미지(x_test[idx]) 시각화하여 예측 값이 맞는지 확인"
      ],
      "metadata": {
        "id": "xdmP8bRLA_w9"
      }
    },
    {
      "cell_type": "code",
      "source": [
        "plt.imshow(x_test[idx],cmap=plt.cm.binary)\n",
        "plt.show()"
      ],
      "metadata": {
        "colab": {
          "base_uri": "https://localhost:8080/",
          "height": 430
        },
        "id": "wJ4-g5kLrZ1H",
        "outputId": "b92cf8a9-8f20-490f-cea3-7e648204cc7d"
      },
      "execution_count": null,
      "outputs": [
        {
          "output_type": "display_data",
          "data": {
            "text/plain": [
              "<Figure size 640x480 with 1 Axes>"
            ],
            "image/png": "[encoded data removed]"
          },
          "metadata": {}
        }
      ]
    },
    {
      "cell_type": "markdown",
      "source": [
        "<br>\n",
        "\n",
        "모델의 예측 오류 분석\n",
        "\n",
        "- 모델이 잘못 예측한 이미지 중 일부 시각화 및 결과 출력\n",
        "- 모델이 어떤 데이터에서 실수하는지, 왜 잘못 판단했는지를 확인해야 모델 개선 가능\n",
        "    - 직접 이미지와 예측 결과를 비교함으로써 모델이 오해한 패턴 추적"
      ],
      "metadata": {
        "id": "MwCWsyIDBTak"
      }
    },
    {
      "cell_type": "code",
      "source": [
        "import random\n",
        "\n",
        "wrong_predict_list = []  # 모델이 틀린 예측의 인덱스를 저장할 리스트\n",
        "\n",
        "# 모든 테스트 데이터에서 예측값과 실제값을 비교\n",
        "for i, _ in enumerate(predicted_labels):\n",
        "    if predicted_labels[i] != y_test[i]:  # 예측값이 정답과 다르면\n",
        "        wrong_predict_list.append(i)      # 인덱스를 리스트에 저장\n",
        "\n",
        "# 잘못 예측한 샘플 중 5개를 랜덤으로 뽑기\n",
        "samples = random.choices(population=wrong_predict_list, k=5)\n",
        "\n",
        "# 선택된 각 샘플에 대해 결과 확인 및 이미지 출력\n",
        "for n in samples:\n",
        "    print('예측 확률 분포: ' + str(predicted_result[n]))  # 0~9까지 각 숫자일 확률\n",
        "    print('정답 라벨: ' + str(y_test[n]) + ', 예측 결과: ' + str(predicted_labels[n]))\n",
        "    plt.imshow(x_test[n], cmap=plt.cm.binary)  # 실제 이미지 출력\n",
        "    plt.show()"
      ],
      "metadata": {
        "colab": {
          "base_uri": "https://localhost:8080/",
          "height": 1000
        },
        "id": "fG0VRwLgrasD",
        "outputId": "108f892d-49a9-4ef0-f31f-d63a2c3d19e1"
      },
      "execution_count": null,
      "outputs": [
        {
          "output_type": "stream",
          "name": "stdout",
          "text": [
            "예측확률분포: [2.9701886e-07 1.6675827e-03 5.6501359e-01 4.6994388e-03 3.0292587e-05\n",
            " 1.0023670e-06 3.9660527e-08 4.2849964e-01 8.8016124e-05 1.4242288e-07]\n",
            "라벨: 7, 예측결과: 2\n"
          ]
        },
        {
          "output_type": "display_data",
          "data": {
            "text/plain": [
              "<Figure size 640x480 with 1 Axes>"
            ],
            "image/png": "[encoded data removed]"
          },
          "metadata": {}
        },
        {
          "output_type": "stream",
          "name": "stdout",
          "text": [
            "예측확률분포: [3.2177960e-04 6.5013260e-04 6.3204585e-04 8.1186045e-08 7.4247694e-01\n",
            " 1.0653454e-03 2.5479209e-01 8.9303128e-08 2.7894337e-05 3.3442542e-05]\n",
            "라벨: 6, 예측결과: 4\n"
          ]
        },
        {
          "output_type": "display_data",
          "data": {
            "text/plain": [
              "<Figure size 640x480 with 1 Axes>"
            ],
            "image/png": "[encoded data removed]"
          },
          "metadata": {}
        },
        {
          "output_type": "stream",
          "name": "stdout",
          "text": [
            "예측확률분포: [9.2997914e-03 2.6330370e-05 2.6148699e-02 3.6747336e-01 2.7850999e-03\n",
            " 1.4641054e-03 2.2159279e-06 5.5926614e-02 3.2362729e-01 2.1324654e-01]\n",
            "라벨: 9, 예측결과: 3\n"
          ]
        },
        {
          "output_type": "display_data",
          "data": {
            "text/plain": [
              "<Figure size 640x480 with 1 Axes>"
            ],
            "image/png": "[encoded data removed]"
          },
          "metadata": {}
        },
        {
          "output_type": "stream",
          "name": "stdout",
          "text": [
            "예측확률분포: [1.2043363e-01 1.2991821e-05 5.3771213e-03 4.6109892e-03 1.0061469e-01\n",
            " 4.0406099e-04 3.4584486e-01 2.0193447e-05 4.2205009e-01 6.3131249e-04]\n",
            "라벨: 4, 예측결과: 8\n"
          ]
        },
        {
          "output_type": "display_data",
          "data": {
            "text/plain": [
              "<Figure size 640x480 with 1 Axes>"
            ],
            "image/png": "[encoded data removed]"
          },
          "metadata": {}
        },
        {
          "output_type": "stream",
          "name": "stdout",
          "text": [
            "예측확률분포: [4.5596453e-04 4.6776890e-06 5.8306992e-01 1.1569352e-02 3.2546994e-04\n",
            " 7.0171995e-04 2.6146618e-09 1.6275446e-03 1.6957662e-01 2.3266886e-01]\n",
            "라벨: 9, 예측결과: 2\n"
          ]
        },
        {
          "output_type": "display_data",
          "data": {
            "text/plain": [
              "<Figure size 640x480 with 1 Axes>"
            ],
            "image/png": "[encoded data removed]"
          },
          "metadata": {}
        }
      ]
    },
    {
      "cell_type": "markdown",
      "source": [
        "결과를 통해\n",
        "- 모델 평가: 단순 정확도 외에도 오류 패턴 파악이 가능\n",
        "- 모델 개선 방향: 어떤 숫자를 자주 틀리는지 → 데이터 증강, 구조 개선 등\n",
        "- 디버깅: 라벨 자체가 잘못되어 있을 가능성도 눈으로 확인 가능\n",
        "- 시각적 피드백: 사람에게 직관적인 이미지 기반 해석 제공"
      ],
      "metadata": {
        "id": "0othIcfjBhrz"
      }
    },
    {
      "cell_type": "code",
      "source": [],
      "metadata": {
        "id": "v1q3zPaLBmvv"
      },
      "execution_count": null,
      "outputs": []
    },
    {
      "cell_type": "code",
      "source": [],
      "metadata": {
        "id": "D3yPDblEBml4"
      },
      "execution_count": null,
      "outputs": []
    },
    {
      "cell_type": "markdown",
      "source": [
        "<br>\n",
        "\n",
        "## 1.5 더 좋은 네트워크 만들기\n",
        "\n",
        "1. 하이퍼파라미터 설정\n",
        "\n",
        "2. 모델 정의\n",
        "    - Sequential() 방식\n",
        "\n",
        "3. 특징 추출 단계\n",
        "- Conv2D: 이미지를 보고 특징을 뽑는 눈 역할\n",
        "    - 이미지에서 국소적인 특징(모서리, 곡선 등)을 추출하는 필터 사용\n",
        "    - activation='relu': 음수를 제거하고, 비선형성을 부여해 신경망 학습에 도움\n",
        "    - 첫 번째 층은 반드시 input_shape를 명시\n",
        "- MaxPooling2D: 특징을 압축해서 중요한 것만 남김\n",
        "    - 필터로 얻은 특성맵의 크기를 줄임으로써 연산량 감소 및 과적합 방지\n",
        "    - 중요한 정보는 유지하되, 덜 중요한 정보는 버림\n",
        "\n",
        "4. 분류기 구성\n",
        "- Flatten: 이미지 구조를 펼쳐서 Dense 층에 전달\n",
        "    - CNN 계층에서 출력된 3차원 텐서를 1차원 벡터로 펼침\n",
        "    - Fully Connected Layer(Dense)와 연결하기 위한 전처리 과정\n",
        "- Dense + ReLU\n",
        "    - 뉴런 간 모든 연결을 가진 층\n",
        "    - n_dense=32는 뉴런 수를 의미하며, 일반적으로 특징을 조합해 추상적인 표현을 학습하는 역할\n",
        "- Dense + Softmax\n",
        "    - 출력층. 10개의 클래스(숫자 0~9)에 대한 확률값을 출력\n",
        "    - softmax: 각 클래스의 확률 분포를 보장하여 가장 확률이 높은 클래스를 선택하게 함\n",
        "\n",
        "5. 모델 요약 정보 출력\n",
        "\n",
        "6. 모델 컴파일\n",
        "- optimizer='adam'\n",
        "    - 확률적 경사 하강법(SGD)의 진화형. 빠른 수렴과 안정된 학습 제공\n",
        "- loss='sparse_categorical_crossentropy':\n",
        "    = 라벨이 one-hot encoding이 아니라 정수(0~9)로 되어 있을 때 적합한 다중 클래스 분류 손실 함수\n",
        "- metrics=['accuracy']:\n",
        "     - 학습과 테스트에서 정확도(Accuracy)를 추적\n",
        "\n",
        "7. 모델 학습\n",
        "- fit(): 모델 학습\n",
        "    - epochs=10: 전체 데이터를 10번 반복 학습\n",
        "    - x_train_reshaped: CNN 입력 형식에 맞게 (28, 28, 1)로 reshape된 데이터\n",
        "\n",
        "8. 모델 평가\n",
        "- evaluate(): 학습된 모델의 성능을 테스트 데이터셋에서 평가\n",
        "    - test_loss: 테스트 데이터에서의 평균 손실\n",
        "    - test_accuracy: 테스트 데이터에서 맞춘 비율\n",
        "\n"
      ],
      "metadata": {
        "id": "sy65fXrlBnJA"
      }
    },
    {
      "cell_type": "code",
      "source": [
        "# 하이퍼파라미터 설정: 모델 구조와 학습 횟수를 조절\n",
        "n_channel_1=16   # 첫 번째 Conv2D 층의 필터 수 (이미지 특징 추출용)\n",
        "n_channel_2=32   # 두 번째 Conv2D 층의 필터 수 (더 복잡한 특징 추출)\n",
        "n_dense=32       # 완전 연결(Dense) 층의 뉴런 수 (최종 분류를 위한 중간층)\n",
        "n_train_epoch=10  # 전체 데이터를 학습에 사용할 횟수 (epoch 수)\n",
        "\n",
        "# 모델 정의: 순차적으로 층을 쌓는 방식(Sequential)\n",
        "model=keras.models.Sequential()\n",
        "# 첫 번째 합성곱 층: 3x3 필터, ReLU 활성화 함수 사용, 입력 이미지 크기는 28x28x1 (MNIST 같은 흑백 이미지)\n",
        "model.add(keras.layers.Conv2D(n_channel_1, (3,3), activation='relu', input_shape=(28,28,1)))\n",
        "# 최대 풀링 층: 2x2 영역에서 가장 큰 값을 선택해 특성 맵 축소 (연산량 줄이기, 중요 정보 유지)\n",
        "model.add(keras.layers.MaxPool2D(2,2))\n",
        "# 두 번째 합성곱 층: 더 많은 필터로 복잡한 패턴 학습\n",
        "model.add(keras.layers.Conv2D(n_channel_2, (3,3), activation='relu'))\n",
        "# 또 한 번의 최대 풀링\n",
        "model.add(keras.layers.MaxPooling2D((2,2)))\n",
        "# 특성 맵을 1차원으로 펼쳐서(Dense 층에 입력 가능하도록 변환)\n",
        "model.add(keras.layers.Flatten())\n",
        "# 완전 연결층(Dense): 중간 단계에서 중요한 특징 조합\n",
        "model.add(keras.layers.Dense(n_dense, activation='relu'))\n",
        "# 출력층: 클래스 수(10개)만큼 뉴런을 만들고, softmax 함수로 확률 분포 출력\n",
        "model.add(keras.layers.Dense(10, activation='softmax'))\n",
        "\n",
        "# 모델 구조 출력: 각 층의 이름과 출력 형태, 파라미터 수 등을 보여줌\n",
        "model.summary()\n",
        "# 모델 컴파일: 학습에 사용할 최적화 방법(Adam), 손실 함수, 평가 지표 설정\n",
        "model.compile(optimizer='adam',\n",
        "             loss='sparse_categorical_crossentropy',  # 정수 레이블에 적합한 분류 손실 함수\n",
        "             metrics=['accuracy'])\n",
        "\n",
        "# 모델 학습 시작: 학습 데이터를 n_train_epoch만큼 반복해서 모델에 학습시킴\n",
        "model.fit(x_train_reshaped, y_train, epochs=n_train_epoch)\n",
        "\n",
        "# 테스트 데이터로 모델 평가: 손실값과 정확도 측정\n",
        "test_loss, test_accuracy = model.evaluate(x_test_reshaped, y_test, verbose=2)\n",
        "print(f'test_loss: {test_loss} ')\n",
        "print(f'test_accuracy: {test_accuracy}')"
      ],
      "metadata": {
        "colab": {
          "base_uri": "https://localhost:8080/",
          "height": 774
        },
        "id": "YHNxX3AQsFIw",
        "outputId": "c11cf06a-2b14-4d6d-d00f-7616bd5d33c7"
      },
      "execution_count": null,
      "outputs": [
        {
          "output_type": "display_data",
          "data": {
            "text/plain": [
              "\u001b[1mModel: \"sequential_3\"\u001b[0m\n"
            ],
            "text/html": [
              "<pre style=\"white-space:pre;overflow-x:auto;line-height:normal;font-family:Menlo,'DejaVu Sans Mono',consolas,'Courier New',monospace\"><span style=\"font-weight: bold\">Model: \"sequential_3\"</span>\n",
              "</pre>\n"
            ]
          },
          "metadata": {}
        },
        {
          "output_type": "display_data",
          "data": {
            "text/plain": [
              "┏━━━━━━━━━━━━━━━━━━━━━━━━━━━━━━━━━┳━━━━━━━━━━━━━━━━━━━━━━━━┳━━━━━━━━━━━━━━━┓\n",
              "┃\u001b[1m \u001b[0m\u001b[1mLayer (type)                   \u001b[0m\u001b[1m \u001b[0m┃\u001b[1m \u001b[0m\u001b[1mOutput Shape          \u001b[0m\u001b[1m \u001b[0m┃\u001b[1m \u001b[0m\u001b[1m      Param #\u001b[0m\u001b[1m \u001b[0m┃\n",
              "┡━━━━━━━━━━━━━━━━━━━━━━━━━━━━━━━━━╇━━━━━━━━━━━━━━━━━━━━━━━━╇━━━━━━━━━━━━━━━┩\n",
              "│ conv2d_6 (\u001b[38;5;33mConv2D\u001b[0m)               │ (\u001b[38;5;45mNone\u001b[0m, \u001b[38;5;34m26\u001b[0m, \u001b[38;5;34m26\u001b[0m, \u001b[38;5;34m16\u001b[0m)     │           \u001b[38;5;34m160\u001b[0m │\n",
              "├─────────────────────────────────┼────────────────────────┼───────────────┤\n",
              "│ max_pooling2d_6 (\u001b[38;5;33mMaxPooling2D\u001b[0m)  │ (\u001b[38;5;45mNone\u001b[0m, \u001b[38;5;34m13\u001b[0m, \u001b[38;5;34m13\u001b[0m, \u001b[38;5;34m16\u001b[0m)     │             \u001b[38;5;34m0\u001b[0m │\n",
              "├─────────────────────────────────┼────────────────────────┼───────────────┤\n",
              "│ conv2d_7 (\u001b[38;5;33mConv2D\u001b[0m)               │ (\u001b[38;5;45mNone\u001b[0m, \u001b[38;5;34m11\u001b[0m, \u001b[38;5;34m11\u001b[0m, \u001b[38;5;34m32\u001b[0m)     │         \u001b[38;5;34m4,640\u001b[0m │\n",
              "├─────────────────────────────────┼────────────────────────┼───────────────┤\n",
              "│ max_pooling2d_7 (\u001b[38;5;33mMaxPooling2D\u001b[0m)  │ (\u001b[38;5;45mNone\u001b[0m, \u001b[38;5;34m5\u001b[0m, \u001b[38;5;34m5\u001b[0m, \u001b[38;5;34m32\u001b[0m)       │             \u001b[38;5;34m0\u001b[0m │\n",
              "├─────────────────────────────────┼────────────────────────┼───────────────┤\n",
              "│ flatten_3 (\u001b[38;5;33mFlatten\u001b[0m)             │ (\u001b[38;5;45mNone\u001b[0m, \u001b[38;5;34m800\u001b[0m)            │             \u001b[38;5;34m0\u001b[0m │\n",
              "├─────────────────────────────────┼────────────────────────┼───────────────┤\n",
              "│ dense_6 (\u001b[38;5;33mDense\u001b[0m)                 │ (\u001b[38;5;45mNone\u001b[0m, \u001b[38;5;34m32\u001b[0m)             │        \u001b[38;5;34m25,632\u001b[0m │\n",
              "├─────────────────────────────────┼────────────────────────┼───────────────┤\n",
              "│ dense_7 (\u001b[38;5;33mDense\u001b[0m)                 │ (\u001b[38;5;45mNone\u001b[0m, \u001b[38;5;34m10\u001b[0m)             │           \u001b[38;5;34m330\u001b[0m │\n",
              "└─────────────────────────────────┴────────────────────────┴───────────────┘\n"
            ],
            "text/html": [
              "<pre style=\"white-space:pre;overflow-x:auto;line-height:normal;font-family:Menlo,'DejaVu Sans Mono',consolas,'Courier New',monospace\">┏━━━━━━━━━━━━━━━━━━━━━━━━━━━━━━━━━┳━━━━━━━━━━━━━━━━━━━━━━━━┳━━━━━━━━━━━━━━━┓\n",
              "┃<span style=\"font-weight: bold\"> Layer (type)                    </span>┃<span style=\"font-weight: bold\"> Output Shape           </span>┃<span style=\"font-weight: bold\">       Param # </span>┃\n",
              "┡━━━━━━━━━━━━━━━━━━━━━━━━━━━━━━━━━╇━━━━━━━━━━━━━━━━━━━━━━━━╇━━━━━━━━━━━━━━━┩\n",
              "│ conv2d_6 (<span style=\"color: #0087ff; text-decoration-color: #0087ff\">Conv2D</span>)               │ (<span style=\"color: #00d7ff; text-decoration-color: #00d7ff\">None</span>, <span style=\"color: #00af00; text-decoration-color: #00af00\">26</span>, <span style=\"color: #00af00; text-decoration-color: #00af00\">26</span>, <span style=\"color: #00af00; text-decoration-color: #00af00\">16</span>)     │           <span style=\"color: #00af00; text-decoration-color: #00af00\">160</span> │\n",
              "├─────────────────────────────────┼────────────────────────┼───────────────┤\n",
              "│ max_pooling2d_6 (<span style=\"color: #0087ff; text-decoration-color: #0087ff\">MaxPooling2D</span>)  │ (<span style=\"color: #00d7ff; text-decoration-color: #00d7ff\">None</span>, <span style=\"color: #00af00; text-decoration-color: #00af00\">13</span>, <span style=\"color: #00af00; text-decoration-color: #00af00\">13</span>, <span style=\"color: #00af00; text-decoration-color: #00af00\">16</span>)     │             <span style=\"color: #00af00; text-decoration-color: #00af00\">0</span> │\n",
              "├─────────────────────────────────┼────────────────────────┼───────────────┤\n",
              "│ conv2d_7 (<span style=\"color: #0087ff; text-decoration-color: #0087ff\">Conv2D</span>)               │ (<span style=\"color: #00d7ff; text-decoration-color: #00d7ff\">None</span>, <span style=\"color: #00af00; text-decoration-color: #00af00\">11</span>, <span style=\"color: #00af00; text-decoration-color: #00af00\">11</span>, <span style=\"color: #00af00; text-decoration-color: #00af00\">32</span>)     │         <span style=\"color: #00af00; text-decoration-color: #00af00\">4,640</span> │\n",
              "├─────────────────────────────────┼────────────────────────┼───────────────┤\n",
              "│ max_pooling2d_7 (<span style=\"color: #0087ff; text-decoration-color: #0087ff\">MaxPooling2D</span>)  │ (<span style=\"color: #00d7ff; text-decoration-color: #00d7ff\">None</span>, <span style=\"color: #00af00; text-decoration-color: #00af00\">5</span>, <span style=\"color: #00af00; text-decoration-color: #00af00\">5</span>, <span style=\"color: #00af00; text-decoration-color: #00af00\">32</span>)       │             <span style=\"color: #00af00; text-decoration-color: #00af00\">0</span> │\n",
              "├─────────────────────────────────┼────────────────────────┼───────────────┤\n",
              "│ flatten_3 (<span style=\"color: #0087ff; text-decoration-color: #0087ff\">Flatten</span>)             │ (<span style=\"color: #00d7ff; text-decoration-color: #00d7ff\">None</span>, <span style=\"color: #00af00; text-decoration-color: #00af00\">800</span>)            │             <span style=\"color: #00af00; text-decoration-color: #00af00\">0</span> │\n",
              "├─────────────────────────────────┼────────────────────────┼───────────────┤\n",
              "│ dense_6 (<span style=\"color: #0087ff; text-decoration-color: #0087ff\">Dense</span>)                 │ (<span style=\"color: #00d7ff; text-decoration-color: #00d7ff\">None</span>, <span style=\"color: #00af00; text-decoration-color: #00af00\">32</span>)             │        <span style=\"color: #00af00; text-decoration-color: #00af00\">25,632</span> │\n",
              "├─────────────────────────────────┼────────────────────────┼───────────────┤\n",
              "│ dense_7 (<span style=\"color: #0087ff; text-decoration-color: #0087ff\">Dense</span>)                 │ (<span style=\"color: #00d7ff; text-decoration-color: #00d7ff\">None</span>, <span style=\"color: #00af00; text-decoration-color: #00af00\">10</span>)             │           <span style=\"color: #00af00; text-decoration-color: #00af00\">330</span> │\n",
              "└─────────────────────────────────┴────────────────────────┴───────────────┘\n",
              "</pre>\n"
            ]
          },
          "metadata": {}
        },
        {
          "output_type": "display_data",
          "data": {
            "text/plain": [
              "\u001b[1m Total params: \u001b[0m\u001b[38;5;34m30,762\u001b[0m (120.16 KB)\n"
            ],
            "text/html": [
              "<pre style=\"white-space:pre;overflow-x:auto;line-height:normal;font-family:Menlo,'DejaVu Sans Mono',consolas,'Courier New',monospace\"><span style=\"font-weight: bold\"> Total params: </span><span style=\"color: #00af00; text-decoration-color: #00af00\">30,762</span> (120.16 KB)\n",
              "</pre>\n"
            ]
          },
          "metadata": {}
        },
        {
          "output_type": "display_data",
          "data": {
            "text/plain": [
              "\u001b[1m Trainable params: \u001b[0m\u001b[38;5;34m30,762\u001b[0m (120.16 KB)\n"
            ],
            "text/html": [
              "<pre style=\"white-space:pre;overflow-x:auto;line-height:normal;font-family:Menlo,'DejaVu Sans Mono',consolas,'Courier New',monospace\"><span style=\"font-weight: bold\"> Trainable params: </span><span style=\"color: #00af00; text-decoration-color: #00af00\">30,762</span> (120.16 KB)\n",
              "</pre>\n"
            ]
          },
          "metadata": {}
        },
        {
          "output_type": "display_data",
          "data": {
            "text/plain": [
              "\u001b[1m Non-trainable params: \u001b[0m\u001b[38;5;34m0\u001b[0m (0.00 B)\n"
            ],
            "text/html": [
              "<pre style=\"white-space:pre;overflow-x:auto;line-height:normal;font-family:Menlo,'DejaVu Sans Mono',consolas,'Courier New',monospace\"><span style=\"font-weight: bold\"> Non-trainable params: </span><span style=\"color: #00af00; text-decoration-color: #00af00\">0</span> (0.00 B)\n",
              "</pre>\n"
            ]
          },
          "metadata": {}
        },
        {
          "output_type": "stream",
          "name": "stdout",
          "text": [
            "Epoch 1/10\n",
            "\u001b[1m1875/1875\u001b[0m \u001b[32m━━━━━━━━━━━━━━━━━━━━\u001b[0m\u001b[37m\u001b[0m \u001b[1m34s\u001b[0m 17ms/step - accuracy: 0.8623 - loss: 0.4414\n",
            "Epoch 2/10\n",
            "\u001b[1m1875/1875\u001b[0m \u001b[32m━━━━━━━━━━━━━━━━━━━━\u001b[0m\u001b[37m\u001b[0m \u001b[1m34s\u001b[0m 18ms/step - accuracy: 0.9782 - loss: 0.0703\n",
            "Epoch 3/10\n",
            "\u001b[1m1875/1875\u001b[0m \u001b[32m━━━━━━━━━━━━━━━━━━━━\u001b[0m\u001b[37m\u001b[0m \u001b[1m31s\u001b[0m 17ms/step - accuracy: 0.9848 - loss: 0.0504\n",
            "Epoch 4/10\n",
            "\u001b[1m1875/1875\u001b[0m \u001b[32m━━━━━━━━━━━━━━━━━━━━\u001b[0m\u001b[37m\u001b[0m \u001b[1m40s\u001b[0m 16ms/step - accuracy: 0.9877 - loss: 0.0388\n",
            "Epoch 5/10\n",
            "\u001b[1m1875/1875\u001b[0m \u001b[32m━━━━━━━━━━━━━━━━━━━━\u001b[0m\u001b[37m\u001b[0m \u001b[1m41s\u001b[0m 17ms/step - accuracy: 0.9908 - loss: 0.0286\n",
            "Epoch 6/10\n",
            "\u001b[1m1875/1875\u001b[0m \u001b[32m━━━━━━━━━━━━━━━━━━━━\u001b[0m\u001b[37m\u001b[0m \u001b[1m42s\u001b[0m 17ms/step - accuracy: 0.9919 - loss: 0.0252\n",
            "Epoch 7/10\n",
            "\u001b[1m1875/1875\u001b[0m \u001b[32m━━━━━━━━━━━━━━━━━━━━\u001b[0m\u001b[37m\u001b[0m \u001b[1m32s\u001b[0m 17ms/step - accuracy: 0.9936 - loss: 0.0202\n",
            "Epoch 8/10\n",
            "\u001b[1m1875/1875\u001b[0m \u001b[32m━━━━━━━━━━━━━━━━━━━━\u001b[0m\u001b[37m\u001b[0m \u001b[1m32s\u001b[0m 17ms/step - accuracy: 0.9943 - loss: 0.0175\n",
            "Epoch 9/10\n",
            "\u001b[1m1875/1875\u001b[0m \u001b[32m━━━━━━━━━━━━━━━━━━━━\u001b[0m\u001b[37m\u001b[0m \u001b[1m41s\u001b[0m 17ms/step - accuracy: 0.9952 - loss: 0.0148\n",
            "Epoch 10/10\n",
            "\u001b[1m1875/1875\u001b[0m \u001b[32m━━━━━━━━━━━━━━━━━━━━\u001b[0m\u001b[37m\u001b[0m \u001b[1m40s\u001b[0m 17ms/step - accuracy: 0.9963 - loss: 0.0117\n",
            "313/313 - 2s - 6ms/step - accuracy: 0.9859 - loss: 0.0482\n",
            "test_loss: 0.048223696649074554 \n",
            "test_accuracy: 0.9858999848365784\n"
          ]
        }
      ]
    },
    {
      "cell_type": "code",
      "source": [],
      "metadata": {
        "id": "8AHrr2K0Fsub"
      },
      "execution_count": null,
      "outputs": []
    },
    {
      "cell_type": "code",
      "source": [],
      "metadata": {
        "id": "LNmvZmEQFslW"
      },
      "execution_count": null,
      "outputs": []
    },
    {
      "cell_type": "markdown",
      "source": [
        "<br>\n",
        "<br>\n",
        "\n",
        "# 2. 가위바위보 이미지 분류 프로젝트"
      ],
      "metadata": {
        "id": "ad6OwmiUsAvJ"
      }
    },
    {
      "cell_type": "markdown",
      "source": [
        "## 2.1 라이브러리 버전 확인"
      ],
      "metadata": {
        "id": "uS7Xc_j9GxWI"
      }
    },
    {
      "cell_type": "code",
      "source": [
        "# 딥러닝 학습을 위한 TensorFlow 및 NumPy 버전 확인\n",
        "import tensorflow as tf\n",
        "import numpy as np\n",
        "\n",
        "print(tf.__version__)\n",
        "print(np.__version__)"
      ],
      "metadata": {
        "colab": {
          "base_uri": "https://localhost:8080/"
        },
        "id": "Y-l4rMq1r1XS",
        "outputId": "2e639b82-1945-42d5-fe0a-64936f4ee95b"
      },
      "execution_count": 1,
      "outputs": [
        {
          "output_type": "stream",
          "name": "stdout",
          "text": [
            "2.18.0\n",
            "2.0.2\n"
          ]
        }
      ]
    },
    {
      "cell_type": "markdown",
      "source": [
        "<br>\n",
        "\n",
        "## 2.2 데이터 준비하기"
      ],
      "metadata": {
        "id": "Sh1qTAqtG0T-"
      }
    },
    {
      "cell_type": "code",
      "source": [
        "from google.colab import drive\n",
        "drive.mount('/content/drive')"
      ],
      "metadata": {
        "colab": {
          "base_uri": "https://localhost:8080/"
        },
        "id": "5S1VfnvBJIFP",
        "outputId": "2ac15c13-e5da-4e2c-cec7-8dabec47120e"
      },
      "execution_count": 2,
      "outputs": [
        {
          "output_type": "stream",
          "name": "stdout",
          "text": [
            "Mounted at /content/drive\n"
          ]
        }
      ]
    },
    {
      "cell_type": "code",
      "source": [
        "# 압축 해제\n",
        "\n",
        "!unzip /content/drive/MyDrive/DS/DL/scissor.zip -d 가위\n",
        "!unzip /content/drive/MyDrive/DS/DL/rock.zip -d 바위\n",
        "!unzip /content/drive/MyDrive/DS/DL/paper.zip -d 보"
      ],
      "metadata": {
        "colab": {
          "base_uri": "https://localhost:8080/"
        },
        "id": "y6RitZoXxPCl",
        "outputId": "876470f1-b6c7-4549-fa79-f4e095a75e6e"
      },
      "execution_count": 3,
      "outputs": [
        {
          "output_type": "stream",
          "name": "stdout",
          "text": [
            "Archive:  /content/drive/MyDrive/DS/DL/scissor.zip\n",
            " extracting: 가위/0.jpg            \n",
            " extracting: 가위/1.jpg            \n",
            " extracting: 가위/2.jpg            \n",
            " extracting: 가위/3.jpg            \n",
            " extracting: 가위/4.jpg            \n",
            " extracting: 가위/5.jpg            \n",
            " extracting: 가위/6.jpg            \n",
            " extracting: 가위/7.jpg            \n",
            " extracting: 가위/8.jpg            \n",
            " extracting: 가위/9.jpg            \n",
            " extracting: 가위/10.jpg           \n",
            " extracting: 가위/11.jpg           \n",
            " extracting: 가위/12.jpg           \n",
            " extracting: 가위/13.jpg           \n",
            " extracting: 가위/14.jpg           \n",
            " extracting: 가위/15.jpg           \n",
            " extracting: 가위/16.jpg           \n",
            " extracting: 가위/17.jpg           \n",
            " extracting: 가위/18.jpg           \n",
            " extracting: 가위/19.jpg           \n",
            " extracting: 가위/20.jpg           \n",
            " extracting: 가위/21.jpg           \n",
            " extracting: 가위/22.jpg           \n",
            " extracting: 가위/23.jpg           \n",
            " extracting: 가위/24.jpg           \n",
            " extracting: 가위/25.jpg           \n",
            " extracting: 가위/26.jpg           \n",
            " extracting: 가위/27.jpg           \n",
            " extracting: 가위/28.jpg           \n",
            " extracting: 가위/29.jpg           \n",
            " extracting: 가위/30.jpg           \n",
            " extracting: 가위/31.jpg           \n",
            " extracting: 가위/32.jpg           \n",
            " extracting: 가위/33.jpg           \n",
            " extracting: 가위/34.jpg           \n",
            " extracting: 가위/35.jpg           \n",
            " extracting: 가위/36.jpg           \n",
            " extracting: 가위/37.jpg           \n",
            " extracting: 가위/38.jpg           \n",
            " extracting: 가위/39.jpg           \n",
            " extracting: 가위/40.jpg           \n",
            " extracting: 가위/41.jpg           \n",
            " extracting: 가위/42.jpg           \n",
            " extracting: 가위/43.jpg           \n",
            " extracting: 가위/44.jpg           \n",
            " extracting: 가위/45.jpg           \n",
            " extracting: 가위/46.jpg           \n",
            " extracting: 가위/47.jpg           \n",
            " extracting: 가위/48.jpg           \n",
            " extracting: 가위/49.jpg           \n",
            " extracting: 가위/50.jpg           \n",
            " extracting: 가위/51.jpg           \n",
            " extracting: 가위/52.jpg           \n",
            " extracting: 가위/53.jpg           \n",
            " extracting: 가위/54.jpg           \n",
            " extracting: 가위/55.jpg           \n",
            " extracting: 가위/56.jpg           \n",
            " extracting: 가위/57.jpg           \n",
            " extracting: 가위/58.jpg           \n",
            " extracting: 가위/59.jpg           \n",
            " extracting: 가위/60.jpg           \n",
            " extracting: 가위/61.jpg           \n",
            " extracting: 가위/62.jpg           \n",
            " extracting: 가위/63.jpg           \n",
            " extracting: 가위/64.jpg           \n",
            " extracting: 가위/65.jpg           \n",
            " extracting: 가위/66.jpg           \n",
            " extracting: 가위/67.jpg           \n",
            " extracting: 가위/68.jpg           \n",
            " extracting: 가위/69.jpg           \n",
            " extracting: 가위/70.jpg           \n",
            " extracting: 가위/71.jpg           \n",
            " extracting: 가위/72.jpg           \n",
            " extracting: 가위/73.jpg           \n",
            " extracting: 가위/74.jpg           \n",
            " extracting: 가위/75.jpg           \n",
            " extracting: 가위/76.jpg           \n",
            " extracting: 가위/77.jpg           \n",
            " extracting: 가위/78.jpg           \n",
            " extracting: 가위/79.jpg           \n",
            " extracting: 가위/80.jpg           \n",
            " extracting: 가위/81.jpg           \n",
            " extracting: 가위/82.jpg           \n",
            " extracting: 가위/83.jpg           \n",
            " extracting: 가위/84.jpg           \n",
            " extracting: 가위/85.jpg           \n",
            " extracting: 가위/86.jpg           \n",
            " extracting: 가위/87.jpg           \n",
            " extracting: 가위/88.jpg           \n",
            " extracting: 가위/89.jpg           \n",
            " extracting: 가위/90.jpg           \n",
            " extracting: 가위/91.jpg           \n",
            " extracting: 가위/92.jpg           \n",
            " extracting: 가위/93.jpg           \n",
            " extracting: 가위/94.jpg           \n",
            " extracting: 가위/95.jpg           \n",
            " extracting: 가위/96.jpg           \n",
            " extracting: 가위/97.jpg           \n",
            " extracting: 가위/98.jpg           \n",
            " extracting: 가위/99.jpg           \n",
            "Archive:  /content/drive/MyDrive/DS/DL/rock.zip\n",
            " extracting: 바위/0.jpg            \n",
            " extracting: 바위/1.jpg            \n",
            " extracting: 바위/2.jpg            \n",
            " extracting: 바위/3.jpg            \n",
            " extracting: 바위/4.jpg            \n",
            " extracting: 바위/5.jpg            \n",
            " extracting: 바위/6.jpg            \n",
            " extracting: 바위/7.jpg            \n",
            " extracting: 바위/8.jpg            \n",
            " extracting: 바위/9.jpg            \n",
            " extracting: 바위/10.jpg           \n",
            " extracting: 바위/11.jpg           \n",
            " extracting: 바위/12.jpg           \n",
            " extracting: 바위/13.jpg           \n",
            " extracting: 바위/14.jpg           \n",
            " extracting: 바위/15.jpg           \n",
            " extracting: 바위/16.jpg           \n",
            " extracting: 바위/17.jpg           \n",
            " extracting: 바위/18.jpg           \n",
            " extracting: 바위/19.jpg           \n",
            " extracting: 바위/20.jpg           \n",
            " extracting: 바위/21.jpg           \n",
            " extracting: 바위/22.jpg           \n",
            " extracting: 바위/23.jpg           \n",
            " extracting: 바위/24.jpg           \n",
            " extracting: 바위/25.jpg           \n",
            " extracting: 바위/26.jpg           \n",
            " extracting: 바위/27.jpg           \n",
            " extracting: 바위/28.jpg           \n",
            " extracting: 바위/29.jpg           \n",
            " extracting: 바위/30.jpg           \n",
            " extracting: 바위/31.jpg           \n",
            " extracting: 바위/32.jpg           \n",
            " extracting: 바위/33.jpg           \n",
            " extracting: 바위/34.jpg           \n",
            " extracting: 바위/35.jpg           \n",
            " extracting: 바위/36.jpg           \n",
            " extracting: 바위/37.jpg           \n",
            " extracting: 바위/38.jpg           \n",
            " extracting: 바위/39.jpg           \n",
            " extracting: 바위/40.jpg           \n",
            " extracting: 바위/41.jpg           \n",
            " extracting: 바위/42.jpg           \n",
            " extracting: 바위/43.jpg           \n",
            " extracting: 바위/44.jpg           \n",
            " extracting: 바위/45.jpg           \n",
            " extracting: 바위/46.jpg           \n",
            " extracting: 바위/47.jpg           \n",
            " extracting: 바위/48.jpg           \n",
            " extracting: 바위/49.jpg           \n",
            " extracting: 바위/50.jpg           \n",
            " extracting: 바위/51.jpg           \n",
            " extracting: 바위/52.jpg           \n",
            " extracting: 바위/53.jpg           \n",
            " extracting: 바위/54.jpg           \n",
            " extracting: 바위/55.jpg           \n",
            " extracting: 바위/56.jpg           \n",
            " extracting: 바위/57.jpg           \n",
            " extracting: 바위/58.jpg           \n",
            " extracting: 바위/59.jpg           \n",
            " extracting: 바위/60.jpg           \n",
            " extracting: 바위/61.jpg           \n",
            " extracting: 바위/62.jpg           \n",
            " extracting: 바위/63.jpg           \n",
            " extracting: 바위/64.jpg           \n",
            " extracting: 바위/65.jpg           \n",
            " extracting: 바위/66.jpg           \n",
            " extracting: 바위/67.jpg           \n",
            " extracting: 바위/68.jpg           \n",
            " extracting: 바위/69.jpg           \n",
            " extracting: 바위/70.jpg           \n",
            " extracting: 바위/71.jpg           \n",
            " extracting: 바위/72.jpg           \n",
            " extracting: 바위/73.jpg           \n",
            " extracting: 바위/74.jpg           \n",
            " extracting: 바위/75.jpg           \n",
            " extracting: 바위/76.jpg           \n",
            " extracting: 바위/77.jpg           \n",
            " extracting: 바위/78.jpg           \n",
            " extracting: 바위/79.jpg           \n",
            " extracting: 바위/80.jpg           \n",
            " extracting: 바위/81.jpg           \n",
            " extracting: 바위/82.jpg           \n",
            " extracting: 바위/83.jpg           \n",
            " extracting: 바위/84.jpg           \n",
            " extracting: 바위/85.jpg           \n",
            " extracting: 바위/86.jpg           \n",
            " extracting: 바위/87.jpg           \n",
            " extracting: 바위/88.jpg           \n",
            " extracting: 바위/89.jpg           \n",
            " extracting: 바위/90.jpg           \n",
            " extracting: 바위/91.jpg           \n",
            " extracting: 바위/92.jpg           \n",
            " extracting: 바위/93.jpg           \n",
            " extracting: 바위/94.jpg           \n",
            " extracting: 바위/95.jpg           \n",
            " extracting: 바위/96.jpg           \n",
            " extracting: 바위/97.jpg           \n",
            " extracting: 바위/98.jpg           \n",
            " extracting: 바위/99.jpg           \n",
            "Archive:  /content/drive/MyDrive/DS/DL/paper.zip\n",
            " extracting: 보/0.jpg               \n",
            " extracting: 보/1.jpg               \n",
            " extracting: 보/2.jpg               \n",
            " extracting: 보/3.jpg               \n",
            " extracting: 보/4.jpg               \n",
            " extracting: 보/5.jpg               \n",
            " extracting: 보/6.jpg               \n",
            " extracting: 보/7.jpg               \n",
            " extracting: 보/8.jpg               \n",
            " extracting: 보/9.jpg               \n",
            " extracting: 보/10.jpg              \n",
            " extracting: 보/11.jpg              \n",
            " extracting: 보/12.jpg              \n",
            " extracting: 보/13.jpg              \n",
            " extracting: 보/14.jpg              \n",
            " extracting: 보/15.jpg              \n",
            " extracting: 보/16.jpg              \n",
            " extracting: 보/17.jpg              \n",
            " extracting: 보/18.jpg              \n",
            " extracting: 보/19.jpg              \n",
            " extracting: 보/20.jpg              \n",
            " extracting: 보/21.jpg              \n",
            " extracting: 보/22.jpg              \n",
            " extracting: 보/23.jpg              \n",
            " extracting: 보/24.jpg              \n",
            " extracting: 보/25.jpg              \n",
            " extracting: 보/26.jpg              \n",
            " extracting: 보/27.jpg              \n",
            " extracting: 보/28.jpg              \n",
            " extracting: 보/29.jpg              \n",
            " extracting: 보/30.jpg              \n",
            " extracting: 보/31.jpg              \n",
            " extracting: 보/32.jpg              \n",
            " extracting: 보/33.jpg              \n",
            " extracting: 보/34.jpg              \n",
            " extracting: 보/35.jpg              \n",
            " extracting: 보/36.jpg              \n",
            " extracting: 보/37.jpg              \n",
            " extracting: 보/38.jpg              \n",
            " extracting: 보/39.jpg              \n",
            " extracting: 보/40.jpg              \n",
            " extracting: 보/41.jpg              \n",
            " extracting: 보/42.jpg              \n",
            " extracting: 보/43.jpg              \n",
            " extracting: 보/44.jpg              \n",
            " extracting: 보/45.jpg              \n",
            " extracting: 보/46.jpg              \n",
            " extracting: 보/47.jpg              \n",
            " extracting: 보/48.jpg              \n",
            " extracting: 보/49.jpg              \n",
            " extracting: 보/50.jpg              \n",
            " extracting: 보/51.jpg              \n",
            " extracting: 보/52.jpg              \n",
            " extracting: 보/53.jpg              \n",
            " extracting: 보/54.jpg              \n",
            " extracting: 보/55.jpg              \n",
            " extracting: 보/56.jpg              \n",
            " extracting: 보/57.jpg              \n",
            " extracting: 보/58.jpg              \n",
            " extracting: 보/59.jpg              \n",
            " extracting: 보/60.jpg              \n",
            " extracting: 보/61.jpg              \n",
            " extracting: 보/62.jpg              \n",
            " extracting: 보/63.jpg              \n",
            " extracting: 보/64.jpg              \n",
            " extracting: 보/65.jpg              \n",
            " extracting: 보/66.jpg              \n",
            " extracting: 보/67.jpg              \n",
            " extracting: 보/68.jpg              \n",
            " extracting: 보/69.jpg              \n",
            " extracting: 보/70.jpg              \n",
            " extracting: 보/71.jpg              \n",
            " extracting: 보/72.jpg              \n",
            " extracting: 보/73.jpg              \n",
            " extracting: 보/74.jpg              \n",
            " extracting: 보/75.jpg              \n",
            " extracting: 보/76.jpg              \n",
            " extracting: 보/77.jpg              \n",
            " extracting: 보/78.jpg              \n",
            " extracting: 보/79.jpg              \n",
            " extracting: 보/80.jpg              \n",
            " extracting: 보/81.jpg              \n",
            " extracting: 보/82.jpg              \n",
            " extracting: 보/83.jpg              \n",
            " extracting: 보/84.jpg              \n",
            " extracting: 보/85.jpg              \n",
            " extracting: 보/86.jpg              \n",
            " extracting: 보/87.jpg              \n",
            " extracting: 보/88.jpg              \n",
            " extracting: 보/89.jpg              \n",
            " extracting: 보/90.jpg              \n",
            " extracting: 보/91.jpg              \n",
            " extracting: 보/92.jpg              \n",
            " extracting: 보/93.jpg              \n",
            " extracting: 보/94.jpg              \n",
            " extracting: 보/95.jpg              \n",
            " extracting: 보/96.jpg              \n",
            " extracting: 보/97.jpg              \n",
            " extracting: 보/98.jpg              \n",
            " extracting: 보/99.jpg              \n"
          ]
        }
      ]
    },
    {
      "cell_type": "code",
      "source": [
        "# 이미지 파일을 열고 처리하기 위한 라이브러리(Pillow 패키지의 핵심 모듈)\n",
        "from PIL import Image  # 이미지 로딩, 리사이징, 색 변환 등에 유용\n",
        "# 특정 경로 내 파일들을 패턴에 맞게 한 번에 불러올 수 있도록 도와주는 모듈\n",
        "import glob\n",
        "# 디렉토리 경로 조작, 파일 존재 여부 확인 등 운영체제 관련 기능 제공\n",
        "import os\n",
        "\n",
        "print('PIL 라이브러리 import 완료')"
      ],
      "metadata": {
        "colab": {
          "base_uri": "https://localhost:8080/"
        },
        "id": "7sQVdquQwhOP",
        "outputId": "2eb915f7-0d94-426e-8f1a-8c8bfe3fd70e"
      },
      "execution_count": 4,
      "outputs": [
        {
          "output_type": "stream",
          "name": "stdout",
          "text": [
            "PIL 라이브러리 import 완료\n"
          ]
        }
      ]
    },
    {
      "cell_type": "markdown",
      "source": [
        "<br>\n",
        "\n",
        "이미지 resize 함수 정의\n",
        "- 지정한 폴더 경로에서 .jpg 이미지 파일을 모두 찾아서 모든 이미지를 28x28 픽셀 크기로 리사이즈한 뒤, 원래 파일에 덮어쓰기 저장\n",
        "- 딥러닝 모델에 이미지를 입력하기 위해 입력 크기를 통일하는 전처리 단계"
      ],
      "metadata": {
        "id": "Ry3BzXFdvegQ"
      }
    },
    {
      "cell_type": "code",
      "source": [
        "def resize_images(img_path):\n",
        "    images = glob.glob(img_path + '/*.jpg')  # 지정 경로에서 .jpg 이미지 파일 목록을 리스트로 가져오기\n",
        "\n",
        "    print(len(images), ' images to be resized.')  # 총 이미지 수 출력\n",
        "\n",
        "    # 이미지 크기 리사이징 대상 크기 정의 (CNN 입력 형식에 맞춤)\n",
        "    target_size = (28, 28)\n",
        "\n",
        "    for img in images:\n",
        "        old_img = Image.open(img)  # 이미지 파일 열기 (PIL 객체)\n",
        "        new_img = old_img.resize(target_size, Image.Resampling.LANCZOS)  # 리사이즈 (LANCZOS는 고급 보간법)\n",
        "        new_img.save(img, 'JPEG')  # 기존 파일에 덮어쓰기 저장\n",
        "\n",
        "    print(len(images), ' images resized.')  # 완료된 이미지 수 출력"
      ],
      "metadata": {
        "id": "MLCkQPu4wj0o"
      },
      "execution_count": 5,
      "outputs": []
    },
    {
      "cell_type": "code",
      "source": [
        "# 각 클래스별 이미지가 저장된 폴더(가위/바위/보)를 대상으로 resize_images() 함수 호출\n",
        "# : 모든 이미지를 28x28 크기로 리사이즈하고, 완료 여부 출력\n",
        "# : CNN 모델의 입력 크기를 통일하기 위한 전처리 작업\n",
        "image_dir_path = './가위'       # 이미지가 들어있는 폴더 경로 지정\n",
        "resize_images(image_dir_path)\n",
        "print('가위 이미지 resize 완료')\n",
        "\n",
        "image_dir_path = './바위'\n",
        "resize_images(image_dir_path)\n",
        "print('바위 이미지 resize 완료')\n",
        "\n",
        "image_dir_path = './보'\n",
        "resize_images(image_dir_path)\n",
        "print('보 이미지 resize 완료')"
      ],
      "metadata": {
        "colab": {
          "base_uri": "https://localhost:8080/"
        },
        "id": "EDhSNRiNwrNn",
        "outputId": "c3ba74c8-0d7f-4ab7-8a75-c19d1091d6ec"
      },
      "execution_count": 6,
      "outputs": [
        {
          "output_type": "stream",
          "name": "stdout",
          "text": [
            "100  images to be resized.\n",
            "100  images resized.\n",
            "가위 이미지 resize 완료\n",
            "100  images to be resized.\n",
            "100  images resized.\n",
            "바위 이미지 resize 완료\n",
            "100  images to be resized.\n",
            "100  images resized.\n",
            "보 이미지 resize 완료\n"
          ]
        }
      ]
    },
    {
      "cell_type": "markdown",
      "source": [
        "<br>\n",
        "\n",
        "이미지 데이터 로드 및 전처리 함수 정의"
      ],
      "metadata": {
        "id": "ZgKPe4VIKxEU"
      }
    },
    {
      "cell_type": "code",
      "source": [
        "import numpy as np\n",
        "from sklearn.utils import shuffle  # 데이터 셔플용 유틸리티\n",
        "import glob\n",
        "from PIL import Image\n",
        "\n",
        "def load_data(img_path, folder_names):\n",
        "    \"\"\"\n",
        "    이미지 데이터를 불러오고 라벨을 부여하는 함수\n",
        "    - 가위: 0, 바위: 1, 보: 2 라벨 부여\n",
        "      - 테스트용 폴더도 라벨은 동일하게 부여\n",
        "    - 학습용: folder_names = ['가위', '바위', '보']\n",
        "    - 테스트용: folder_names = ['가위_test', '바위_test', '보_test']\n",
        "    \"\"\"\n",
        "\n",
        "    img_size = 28       # 이미지 가로, 세로 크기\n",
        "    color = 3           # RGB 컬러 채널 (3채널)\n",
        "\n",
        "    # 라벨 맵: 폴더 이름에 따라 라벨 부여\n",
        "    label_map = {\n",
        "        '가위': 0, '바위': 1, '보': 2,\n",
        "        '가위_test': 0, '바위_test': 1, '보_test': 2,\n",
        "        '가위_test2': 0, '바위_test2': 1, '보_test2': 2,\n",
        "        '가위_test3': 0, '바위_test3': 1, '보_test3': 2\n",
        "    }\n",
        "\n",
        "    # 이미지 배열 및 라벨 배열 초기화\n",
        "    all_imgs = []\n",
        "    all_labels = []\n",
        "\n",
        "    # 지정된 폴더 목록에 대해 이미지 로드\n",
        "    for folder in folder_names:\n",
        "        files = glob.glob(os.path.join(img_path, folder, '*.jpg'))\n",
        "        label = label_map[folder]\n",
        "\n",
        "        for file in files:\n",
        "            try:\n",
        "                img = Image.open(file).resize((img_size, img_size))  # 이미지 로드 및 리사이즈\n",
        "                img = np.array(img, dtype=np.int32)                  # 배열 변환\n",
        "                all_imgs.append(img)\n",
        "                all_labels.append(label)\n",
        "            except Exception as e:\n",
        "                print(f\"[오류] {file} 읽기 실패:\", e)\n",
        "\n",
        "    print('데이터의 이미지 개수:', len(all_imgs))\n",
        "    return np.array(all_imgs), np.array(all_labels)  # 이미지 데이터와 라벨 반환"
      ],
      "metadata": {
        "id": "jlYnLEV1xb4v"
      },
      "execution_count": 26,
      "outputs": []
    },
    {
      "cell_type": "code",
      "source": [
        "# 함수 실행: 현재 디렉토리 기준으로 데이터 로드\n",
        "image_dir_path = '.'\n",
        "(x_train, y_train) = load_data(image_dir_path, ['가위', '바위', '보'])\n",
        "\n",
        "# 데이터를 무작위로 섞어 모델이 편향 없이 학습할 수 있도록 준비\n",
        "x_train, y_train = shuffle(x_train, y_train, random_state=42)\n",
        "\n",
        "# 이미지 정규화: 픽셀 값을 0~1 사이로 변환해 학습 안정화\n",
        "x_train_norm = x_train / 255.0\n",
        "\n",
        "# 데이터 형태 확인\n",
        "print('x_train shape: {}'.format(x_train.shape))  # (샘플 수, 28, 28, 3)\n",
        "print('y_train shape: {}'.format(y_train.shape))  # (샘플 수,)"
      ],
      "metadata": {
        "id": "rSZTAhGyw0Y3",
        "colab": {
          "base_uri": "https://localhost:8080/"
        },
        "outputId": "862dee30-3282-4fa1-bf89-cc9defbd51d2"
      },
      "execution_count": 8,
      "outputs": [
        {
          "output_type": "stream",
          "name": "stdout",
          "text": [
            "데이터의 이미지 개수: 300\n",
            "x_train shape: (300, 28, 28, 3)\n",
            "y_train shape: (300,)\n"
          ]
        }
      ]
    },
    {
      "cell_type": "code",
      "source": [
        "import matplotlib.pyplot as plt\n",
        "\n",
        "plt.imshow(x_train[224])         # RGB 이미지 그대로 출력\n",
        "plt.axis('off')                  # 축 눈금 숨김\n",
        "plt.show()\n",
        "\n",
        "# 해당 이미지의 실제 정답 라벨 출력\n",
        "print('라벨: ', y_train[224])    # 0=가위, 1=바위, 2=보"
      ],
      "metadata": {
        "colab": {
          "base_uri": "https://localhost:8080/",
          "height": 424
        },
        "id": "j-olr7PwFYtc",
        "outputId": "29b203ba-99b1-46ea-ae0c-41dc560df409"
      },
      "execution_count": 9,
      "outputs": [
        {
          "output_type": "display_data",
          "data": {
            "text/plain": [
              "<Figure size 640x480 with 1 Axes>"
            ],
            "image/png": "[encoded data removed]"
          },
          "metadata": {}
        },
        {
          "output_type": "stream",
          "name": "stdout",
          "text": [
            "라벨:  0\n"
          ]
        }
      ]
    },
    {
      "cell_type": "code",
      "source": [],
      "metadata": {
        "id": "Jte-ramuNESy"
      },
      "execution_count": 9,
      "outputs": []
    },
    {
      "cell_type": "code",
      "source": [],
      "metadata": {
        "id": "_PKZ-jkENEOX"
      },
      "execution_count": 9,
      "outputs": []
    },
    {
      "cell_type": "markdown",
      "source": [
        "<br>\n",
        "\n",
        "## 2.3 딥러닝 네트워크 설계하기\n",
        "\n",
        "가위/바위/보 이미지 분류를 위한 CNN 모델을 정의\n",
        "- 입력: 크기 (28x28x3)의 컬러 이미지\n",
        "- 출력: 3개의 클래스(가위=0, 바위=1, 보=2)에 대한 확률 분포"
      ],
      "metadata": {
        "id": "T1evOb5FMeGz"
      }
    },
    {
      "cell_type": "code",
      "source": [
        "import tensorflow as tf                    # TensorFlow: 딥러닝 프레임워크\n",
        "from tensorflow import keras               # Keras: 고수준 API\n",
        "import numpy as np                         # NumPy: 수치 연산용\n",
        "\n",
        "# 하이퍼파라미터 설정\n",
        "n_channel_1 = 16       # 첫 번째 Conv 층의 필터 수\n",
        "n_channel_2 = 32       # 두 번째 Conv 층의 필터 수\n",
        "n_dense = 32           # Dense 층 뉴런 수\n",
        "n_train_epoch = 2     # 학습 epoch 수\n",
        "\n",
        "# CNN 모델 정의\n",
        "model = keras.models.Sequential()\n",
        "model.add(keras.layers.Conv2D(n_channel_1, (3, 3), activation='relu', input_shape=(28, 28, 3)))\n",
        "model.add(keras.layers.MaxPool2D(2, 2))\n",
        "model.add(keras.layers.Conv2D(n_channel_2, (3, 3), activation='relu'))\n",
        "model.add(keras.layers.MaxPooling2D((2, 2)))\n",
        "model.add(keras.layers.Flatten())\n",
        "model.add(keras.layers.Dense(n_dense, activation='relu'))\n",
        "model.add(keras.layers.Dense(3, activation='softmax'))\n",
        "\n",
        "# 모델 요약 정보 출력: 각 층의 출력 형태, 파라미터 수 확인 가능\n",
        "model.summary()"
      ],
      "metadata": {
        "colab": {
          "base_uri": "https://localhost:8080/",
          "height": 419
        },
        "id": "Ge7qdwshFben",
        "outputId": "a5f8399e-063a-496a-c054-3f45b77d2c78"
      },
      "execution_count": 21,
      "outputs": [
        {
          "output_type": "stream",
          "name": "stderr",
          "text": [
            "/usr/local/lib/python3.11/dist-packages/keras/src/layers/convolutional/base_conv.py:107: UserWarning: Do not pass an `input_shape`/`input_dim` argument to a layer. When using Sequential models, prefer using an `Input(shape)` object as the first layer in the model instead.\n",
            "  super().__init__(activity_regularizer=activity_regularizer, **kwargs)\n"
          ]
        },
        {
          "output_type": "display_data",
          "data": {
            "text/plain": [
              "\u001b[1mModel: \"sequential_1\"\u001b[0m\n"
            ],
            "text/html": [
              "<pre style=\"white-space:pre;overflow-x:auto;line-height:normal;font-family:Menlo,'DejaVu Sans Mono',consolas,'Courier New',monospace\"><span style=\"font-weight: bold\">Model: \"sequential_1\"</span>\n",
              "</pre>\n"
            ]
          },
          "metadata": {}
        },
        {
          "output_type": "display_data",
          "data": {
            "text/plain": [
              "┏━━━━━━━━━━━━━━━━━━━━━━━━━━━━━━━━━┳━━━━━━━━━━━━━━━━━━━━━━━━┳━━━━━━━━━━━━━━━┓\n",
              "┃\u001b[1m \u001b[0m\u001b[1mLayer (type)                   \u001b[0m\u001b[1m \u001b[0m┃\u001b[1m \u001b[0m\u001b[1mOutput Shape          \u001b[0m\u001b[1m \u001b[0m┃\u001b[1m \u001b[0m\u001b[1m      Param #\u001b[0m\u001b[1m \u001b[0m┃\n",
              "┡━━━━━━━━━━━━━━━━━━━━━━━━━━━━━━━━━╇━━━━━━━━━━━━━━━━━━━━━━━━╇━━━━━━━━━━━━━━━┩\n",
              "│ conv2d_2 (\u001b[38;5;33mConv2D\u001b[0m)               │ (\u001b[38;5;45mNone\u001b[0m, \u001b[38;5;34m26\u001b[0m, \u001b[38;5;34m26\u001b[0m, \u001b[38;5;34m16\u001b[0m)     │           \u001b[38;5;34m448\u001b[0m │\n",
              "├─────────────────────────────────┼────────────────────────┼───────────────┤\n",
              "│ max_pooling2d_2 (\u001b[38;5;33mMaxPooling2D\u001b[0m)  │ (\u001b[38;5;45mNone\u001b[0m, \u001b[38;5;34m13\u001b[0m, \u001b[38;5;34m13\u001b[0m, \u001b[38;5;34m16\u001b[0m)     │             \u001b[38;5;34m0\u001b[0m │\n",
              "├─────────────────────────────────┼────────────────────────┼───────────────┤\n",
              "│ conv2d_3 (\u001b[38;5;33mConv2D\u001b[0m)               │ (\u001b[38;5;45mNone\u001b[0m, \u001b[38;5;34m11\u001b[0m, \u001b[38;5;34m11\u001b[0m, \u001b[38;5;34m32\u001b[0m)     │         \u001b[38;5;34m4,640\u001b[0m │\n",
              "├─────────────────────────────────┼────────────────────────┼───────────────┤\n",
              "│ max_pooling2d_3 (\u001b[38;5;33mMaxPooling2D\u001b[0m)  │ (\u001b[38;5;45mNone\u001b[0m, \u001b[38;5;34m5\u001b[0m, \u001b[38;5;34m5\u001b[0m, \u001b[38;5;34m32\u001b[0m)       │             \u001b[38;5;34m0\u001b[0m │\n",
              "├─────────────────────────────────┼────────────────────────┼───────────────┤\n",
              "│ flatten_1 (\u001b[38;5;33mFlatten\u001b[0m)             │ (\u001b[38;5;45mNone\u001b[0m, \u001b[38;5;34m800\u001b[0m)            │             \u001b[38;5;34m0\u001b[0m │\n",
              "├─────────────────────────────────┼────────────────────────┼───────────────┤\n",
              "│ dense_2 (\u001b[38;5;33mDense\u001b[0m)                 │ (\u001b[38;5;45mNone\u001b[0m, \u001b[38;5;34m32\u001b[0m)             │        \u001b[38;5;34m25,632\u001b[0m │\n",
              "├─────────────────────────────────┼────────────────────────┼───────────────┤\n",
              "│ dense_3 (\u001b[38;5;33mDense\u001b[0m)                 │ (\u001b[38;5;45mNone\u001b[0m, \u001b[38;5;34m3\u001b[0m)              │            \u001b[38;5;34m99\u001b[0m │\n",
              "└─────────────────────────────────┴────────────────────────┴───────────────┘\n"
            ],
            "text/html": [
              "<pre style=\"white-space:pre;overflow-x:auto;line-height:normal;font-family:Menlo,'DejaVu Sans Mono',consolas,'Courier New',monospace\">┏━━━━━━━━━━━━━━━━━━━━━━━━━━━━━━━━━┳━━━━━━━━━━━━━━━━━━━━━━━━┳━━━━━━━━━━━━━━━┓\n",
              "┃<span style=\"font-weight: bold\"> Layer (type)                    </span>┃<span style=\"font-weight: bold\"> Output Shape           </span>┃<span style=\"font-weight: bold\">       Param # </span>┃\n",
              "┡━━━━━━━━━━━━━━━━━━━━━━━━━━━━━━━━━╇━━━━━━━━━━━━━━━━━━━━━━━━╇━━━━━━━━━━━━━━━┩\n",
              "│ conv2d_2 (<span style=\"color: #0087ff; text-decoration-color: #0087ff\">Conv2D</span>)               │ (<span style=\"color: #00d7ff; text-decoration-color: #00d7ff\">None</span>, <span style=\"color: #00af00; text-decoration-color: #00af00\">26</span>, <span style=\"color: #00af00; text-decoration-color: #00af00\">26</span>, <span style=\"color: #00af00; text-decoration-color: #00af00\">16</span>)     │           <span style=\"color: #00af00; text-decoration-color: #00af00\">448</span> │\n",
              "├─────────────────────────────────┼────────────────────────┼───────────────┤\n",
              "│ max_pooling2d_2 (<span style=\"color: #0087ff; text-decoration-color: #0087ff\">MaxPooling2D</span>)  │ (<span style=\"color: #00d7ff; text-decoration-color: #00d7ff\">None</span>, <span style=\"color: #00af00; text-decoration-color: #00af00\">13</span>, <span style=\"color: #00af00; text-decoration-color: #00af00\">13</span>, <span style=\"color: #00af00; text-decoration-color: #00af00\">16</span>)     │             <span style=\"color: #00af00; text-decoration-color: #00af00\">0</span> │\n",
              "├─────────────────────────────────┼────────────────────────┼───────────────┤\n",
              "│ conv2d_3 (<span style=\"color: #0087ff; text-decoration-color: #0087ff\">Conv2D</span>)               │ (<span style=\"color: #00d7ff; text-decoration-color: #00d7ff\">None</span>, <span style=\"color: #00af00; text-decoration-color: #00af00\">11</span>, <span style=\"color: #00af00; text-decoration-color: #00af00\">11</span>, <span style=\"color: #00af00; text-decoration-color: #00af00\">32</span>)     │         <span style=\"color: #00af00; text-decoration-color: #00af00\">4,640</span> │\n",
              "├─────────────────────────────────┼────────────────────────┼───────────────┤\n",
              "│ max_pooling2d_3 (<span style=\"color: #0087ff; text-decoration-color: #0087ff\">MaxPooling2D</span>)  │ (<span style=\"color: #00d7ff; text-decoration-color: #00d7ff\">None</span>, <span style=\"color: #00af00; text-decoration-color: #00af00\">5</span>, <span style=\"color: #00af00; text-decoration-color: #00af00\">5</span>, <span style=\"color: #00af00; text-decoration-color: #00af00\">32</span>)       │             <span style=\"color: #00af00; text-decoration-color: #00af00\">0</span> │\n",
              "├─────────────────────────────────┼────────────────────────┼───────────────┤\n",
              "│ flatten_1 (<span style=\"color: #0087ff; text-decoration-color: #0087ff\">Flatten</span>)             │ (<span style=\"color: #00d7ff; text-decoration-color: #00d7ff\">None</span>, <span style=\"color: #00af00; text-decoration-color: #00af00\">800</span>)            │             <span style=\"color: #00af00; text-decoration-color: #00af00\">0</span> │\n",
              "├─────────────────────────────────┼────────────────────────┼───────────────┤\n",
              "│ dense_2 (<span style=\"color: #0087ff; text-decoration-color: #0087ff\">Dense</span>)                 │ (<span style=\"color: #00d7ff; text-decoration-color: #00d7ff\">None</span>, <span style=\"color: #00af00; text-decoration-color: #00af00\">32</span>)             │        <span style=\"color: #00af00; text-decoration-color: #00af00\">25,632</span> │\n",
              "├─────────────────────────────────┼────────────────────────┼───────────────┤\n",
              "│ dense_3 (<span style=\"color: #0087ff; text-decoration-color: #0087ff\">Dense</span>)                 │ (<span style=\"color: #00d7ff; text-decoration-color: #00d7ff\">None</span>, <span style=\"color: #00af00; text-decoration-color: #00af00\">3</span>)              │            <span style=\"color: #00af00; text-decoration-color: #00af00\">99</span> │\n",
              "└─────────────────────────────────┴────────────────────────┴───────────────┘\n",
              "</pre>\n"
            ]
          },
          "metadata": {}
        },
        {
          "output_type": "display_data",
          "data": {
            "text/plain": [
              "\u001b[1m Total params: \u001b[0m\u001b[38;5;34m30,819\u001b[0m (120.39 KB)\n"
            ],
            "text/html": [
              "<pre style=\"white-space:pre;overflow-x:auto;line-height:normal;font-family:Menlo,'DejaVu Sans Mono',consolas,'Courier New',monospace\"><span style=\"font-weight: bold\"> Total params: </span><span style=\"color: #00af00; text-decoration-color: #00af00\">30,819</span> (120.39 KB)\n",
              "</pre>\n"
            ]
          },
          "metadata": {}
        },
        {
          "output_type": "display_data",
          "data": {
            "text/plain": [
              "\u001b[1m Trainable params: \u001b[0m\u001b[38;5;34m30,819\u001b[0m (120.39 KB)\n"
            ],
            "text/html": [
              "<pre style=\"white-space:pre;overflow-x:auto;line-height:normal;font-family:Menlo,'DejaVu Sans Mono',consolas,'Courier New',monospace\"><span style=\"font-weight: bold\"> Trainable params: </span><span style=\"color: #00af00; text-decoration-color: #00af00\">30,819</span> (120.39 KB)\n",
              "</pre>\n"
            ]
          },
          "metadata": {}
        },
        {
          "output_type": "display_data",
          "data": {
            "text/plain": [
              "\u001b[1m Non-trainable params: \u001b[0m\u001b[38;5;34m0\u001b[0m (0.00 B)\n"
            ],
            "text/html": [
              "<pre style=\"white-space:pre;overflow-x:auto;line-height:normal;font-family:Menlo,'DejaVu Sans Mono',consolas,'Courier New',monospace\"><span style=\"font-weight: bold\"> Non-trainable params: </span><span style=\"color: #00af00; text-decoration-color: #00af00\">0</span> (0.00 B)\n",
              "</pre>\n"
            ]
          },
          "metadata": {}
        }
      ]
    },
    {
      "cell_type": "code",
      "source": [],
      "metadata": {
        "id": "ewn4qZeJM8ez"
      },
      "execution_count": 21,
      "outputs": []
    },
    {
      "cell_type": "code",
      "source": [],
      "metadata": {
        "id": "WoXMIQEWM8Yj"
      },
      "execution_count": 21,
      "outputs": []
    },
    {
      "cell_type": "markdown",
      "source": [
        "<br>\n",
        "\n",
        "## 2.4 딥러닝 네트워크 학습시키기"
      ],
      "metadata": {
        "id": "y7PxmNOiM79A"
      }
    },
    {
      "cell_type": "markdown",
      "source": [
        "정의한 CNN 모델을 컴파일하고 학습시키기\n",
        "- compile(): 모델 학습 방식(손실 함수, 최적화 알고리즘, 평가 지표 등)을 설정\n",
        "- 주어진 입력(x_train)과 정답(y_train)을 사용해 모델을 실제로 학습"
      ],
      "metadata": {
        "id": "5Z9Lj5vv061M"
      }
    },
    {
      "cell_type": "code",
      "source": [
        "# 모델 컴파일: 학습 방법과 평가 방식 정의\n",
        "model.compile(\n",
        "    optimizer='adam',                        # Adam 옵티마이저: 학습률 자동 조절로 효율적인 학습 수행\n",
        "    loss='sparse_categorical_crossentropy',  # 정수형 클래스 레이블(0~2)을 사용할 때 적합한 다중 클래스 손실 함수\n",
        "    metrics=['accuracy']                     # 학습 중 정확도(accuracy)를 측정해 성능 확인\n",
        ")\n",
        "\n",
        "# 모델 훈련: 학습 데이터를 사용하여 weight 업데이트 진행\n",
        "model.fit(\n",
        "    x_train,              # 학습에 사용할 입력 이미지 데이터\n",
        "    y_train,              # 각 이미지의 실제 정답 레이블\n",
        "    epochs=n_train_epoch  # 전체 데이터를 n_train_epoch번 반복해서 학습 (기본값 10)\n",
        ")"
      ],
      "metadata": {
        "colab": {
          "base_uri": "https://localhost:8080/"
        },
        "id": "N2esEIO9FndZ",
        "outputId": "f4a272ce-27ce-43ec-a5b7-ba8efe538061"
      },
      "execution_count": 22,
      "outputs": [
        {
          "output_type": "stream",
          "name": "stdout",
          "text": [
            "Epoch 1/2\n",
            "\u001b[1m10/10\u001b[0m \u001b[32m━━━━━━━━━━━━━━━━━━━━\u001b[0m\u001b[37m\u001b[0m \u001b[1m2s\u001b[0m 18ms/step - accuracy: 0.3608 - loss: 10.7289\n",
            "Epoch 2/2\n",
            "\u001b[1m10/10\u001b[0m \u001b[32m━━━━━━━━━━━━━━━━━━━━\u001b[0m\u001b[37m\u001b[0m \u001b[1m0s\u001b[0m 19ms/step - accuracy: 0.7551 - loss: 1.0474\n"
          ]
        },
        {
          "output_type": "execute_result",
          "data": {
            "text/plain": [
              "<keras.src.callbacks.history.History at 0x7b357b9f2dd0>"
            ]
          },
          "metadata": {},
          "execution_count": 22
        }
      ]
    },
    {
      "cell_type": "markdown",
      "source": [
        "학습 정확도가 지속적으로 상승하고 손실도 꾸준히 감소하면서, 모델이 안정적으로 잘 학습되었음을 보여준다. 특히 5~10 epoch 사이에 급격한 향상과 정교한 미세조정이 이루어진 것을 확인할 수 있다."
      ],
      "metadata": {
        "id": "ZRS_NWdQ3N1c"
      }
    },
    {
      "cell_type": "code",
      "source": [],
      "metadata": {
        "id": "jeCivdfUNOYY"
      },
      "execution_count": 22,
      "outputs": []
    },
    {
      "cell_type": "code",
      "source": [],
      "metadata": {
        "id": "tCaaUidNNOS5"
      },
      "execution_count": 22,
      "outputs": []
    },
    {
      "cell_type": "markdown",
      "source": [
        "<br>\n",
        "\n",
        "## 2.5 테스트 데이터로 성능 확인\n",
        "\n",
        "테스트 데이터로 test accuracy 측정하기"
      ],
      "metadata": {
        "id": "YRdquYXZNOpT"
      }
    },
    {
      "cell_type": "code",
      "source": [
        "# # 압축 해제\n",
        "\n",
        "# !unzip /content/drive/MyDrive/DS/DL/scissor_test.zip -d 가위_test\n",
        "# !unzip /content/drive/MyDrive/DS/DL/rock_test.zip -d 바위_test\n",
        "# !unzip /content/drive/MyDrive/DS/DL/paper_test.zip -d 보_test"
      ],
      "metadata": {
        "collapsed": true,
        "id": "mYtTGIGTF0Kd"
      },
      "execution_count": 23,
      "outputs": []
    },
    {
      "cell_type": "markdown",
      "source": [
        "테스트용 데이터인 x_test, y_test 만들기"
      ],
      "metadata": {
        "id": "BlYNqsaUNb-q"
      }
    },
    {
      "cell_type": "code",
      "source": [
        "test_image_dir_path = './가위_test'\n",
        "resize_images(test_image_dir_path)\n",
        "\n",
        "test_image_dir_path = './바위_test'\n",
        "resize_images(test_image_dir_path)\n",
        "\n",
        "test_image_dir_path = './보_test'\n",
        "resize_images(test_image_dir_path)\n",
        "\n",
        "# 테스트 데이터 로드 (가위: 0, 바위: 1, 보: 2)\n",
        "# : 이미지 데이터를 배열로 읽고 라벨링\n",
        "test_image_dir_path = '.'\n",
        "(x_test, y_test) = load_data(test_image_dir_path, ['가위_test', '바위_test', '보_test'])\n",
        "# # 정규화: 이미지 픽셀 값을 0~1 사이로 스케일링\n",
        "x_test_norm = x_test/255.0\n",
        "# 테스트 이미지와 라벨 데이터의 shape 출력\n",
        "print('x_test shape: {}'.format(x_test.shape))  # 이미지 데이터 (개수, 높이, 너비, 채널 수)\n",
        "print('y_test shape: {}'.format(y_test.shape))  # 정답 라벨 데이터 (개수,)"
      ],
      "metadata": {
        "colab": {
          "base_uri": "https://localhost:8080/"
        },
        "id": "evZpVnjoHrou",
        "outputId": "8ed3509d-11b0-42e5-ada2-9949ae61870a"
      },
      "execution_count": 24,
      "outputs": [
        {
          "output_type": "stream",
          "name": "stdout",
          "text": [
            "100  images to be resized.\n",
            "100  images resized.\n",
            "100  images to be resized.\n",
            "100  images resized.\n",
            "100  images to be resized.\n",
            "100  images resized.\n",
            "데이터의 이미지 개수: 300\n",
            "x_test shape: (300, 28, 28, 3)\n",
            "y_test shape: (300,)\n"
          ]
        }
      ]
    },
    {
      "cell_type": "markdown",
      "source": [
        "학습한 CNN 모델을 테스트 데이터셋에 대해 평가\n",
        "- 모델이 x_test 데이터를 기반으로 예측한 결과와 실제 라벨 y_test를 비교하여\n",
        "- 손실 함수(loss)와 정확도(accuracy) 출력"
      ],
      "metadata": {
        "id": "zkEiTq1CNi6M"
      }
    },
    {
      "cell_type": "code",
      "source": [
        "# 테스트 데이터로 모델 성능 평가: 손실값, 정확도 return\n",
        "test_loss, test_accuracy = model.evaluate(x_test, y_test, verbose=2)\n",
        "print('test_loss: {} '.format(test_loss))\n",
        "print('test_accuracy: {}'.format(test_accuracy))"
      ],
      "metadata": {
        "colab": {
          "base_uri": "https://localhost:8080/"
        },
        "id": "Y-zuD_F2IB-w",
        "outputId": "99bc8d1e-18f7-40a4-a5f6-58e0c8531f68"
      },
      "execution_count": 25,
      "outputs": [
        {
          "output_type": "stream",
          "name": "stdout",
          "text": [
            "10/10 - 0s - 25ms/step - accuracy: 0.3567 - loss: 4.7789\n",
            "test_loss: 4.778869152069092 \n",
            "test_accuracy: 0.3566666543483734\n"
          ]
        }
      ]
    },
    {
      "cell_type": "markdown",
      "source": [
        "학습 데이터에서 성능 (accuracy: 1.0000)\n",
        "- 모델이 학습 데이터에 과도하게 적합(overfitting) 되어 있을 가능성이 크다는 것을 알 수 있음\n",
        "- loss 값도 거의 0에 가까워서 모델이 학습 데이터의 모든 이미지를 거의 완벽하게 분류하고 있다는 의미\n",
        "- 특히 이미지 개수가 많지 않거나, 데이터가 단순하거나, 모델이 너무 복잡한 경우 이런 현상이 발생\n",
        "\n",
        "테스트 데이터에서 성능 (accuracy: 0.356)\n",
        "- 일반화 성능 부족\n",
        "- 학습에서 본 적 없는 데이터에 대해 모델이 잘 예측하지 못하고 있다는 뜻\n",
        "- loss 값이 크게 나온 것도 모델이 예측을 틀리는 경우가 많다는 의미\n",
        "- 모델이 너무 복잡하거나 너무 단순해서 적절한 일반화를 하지 못한다고 판단할 수 있음\n",
        "\n"
      ],
      "metadata": {
        "id": "Q4tjpVCD28ba"
      }
    },
    {
      "cell_type": "code",
      "source": [
        "y_train"
      ],
      "metadata": {
        "colab": {
          "base_uri": "https://localhost:8080/"
        },
        "id": "VFUNYJvSaqZ0",
        "outputId": "dfad5a71-ff1d-4e78-c1bf-a1bbab319dea"
      },
      "execution_count": 15,
      "outputs": [
        {
          "output_type": "execute_result",
          "data": {
            "text/plain": [
              "array([2, 2, 1, 0, 2, 2, 1, 1, 0, 1, 2, 0, 2, 0, 1, 2, 2, 2, 1, 1, 0, 1,\n",
              "       2, 2, 1, 0, 2, 2, 1, 2, 0, 1, 0, 0, 2, 1, 0, 0, 0, 0, 0, 0, 2, 0,\n",
              "       0, 0, 2, 2, 1, 2, 1, 1, 2, 0, 2, 2, 0, 0, 1, 0, 2, 0, 0, 1, 1, 0,\n",
              "       0, 2, 0, 1, 1, 1, 2, 1, 1, 2, 0, 0, 0, 2, 1, 1, 0, 1, 0, 1, 1, 0,\n",
              "       0, 0, 1, 1, 0, 2, 0, 0, 1, 1, 2, 0, 2, 0, 0, 1, 2, 2, 1, 0, 1, 0,\n",
              "       1, 2, 0, 2, 2, 1, 1, 2, 1, 2, 0, 1, 1, 1, 1, 2, 0, 1, 1, 2, 1, 1,\n",
              "       1, 1, 2, 2, 1, 1, 1, 0, 1, 1, 1, 1, 2, 2, 1, 0, 0, 0, 2, 1, 2, 1,\n",
              "       2, 2, 2, 0, 1, 0, 2, 1, 0, 0, 0, 1, 2, 2, 1, 0, 0, 2, 2, 0, 0, 2,\n",
              "       1, 0, 2, 1, 2, 0, 2, 2, 1, 2, 2, 1, 0, 0, 0, 1, 2, 2, 2, 0, 2, 2,\n",
              "       0, 2, 0, 1, 0, 2, 1, 2, 2, 1, 0, 1, 1, 2, 0, 0, 2, 0, 0, 2, 1, 0,\n",
              "       1, 2, 2, 1, 0, 2, 1, 0, 2, 2, 0, 2, 2, 2, 1, 0, 0, 0, 2, 2, 2, 2,\n",
              "       1, 0, 2, 1, 1, 2, 2, 0, 1, 0, 1, 0, 1, 1, 0, 0, 2, 0, 0, 0, 2, 0,\n",
              "       0, 1, 2, 1, 2, 2, 0, 0, 1, 1, 2, 1, 1, 0, 0, 2, 2, 0, 1, 2, 1, 2,\n",
              "       1, 1, 1, 0, 0, 2, 1, 2, 0, 1, 0, 1, 2, 1])"
            ]
          },
          "metadata": {},
          "execution_count": 15
        }
      ]
    },
    {
      "cell_type": "code",
      "source": [
        "import numpy as np\n",
        "import matplotlib.pyplot as plt\n",
        "from sklearn.metrics import confusion_matrix, ConfusionMatrixDisplay\n",
        "\n",
        "# 모델이 예측한 클래스 라벨 (확률에서 가장 높은 값 선택)\n",
        "y_pred = model.predict(x_test_norm)\n",
        "y_pred_labels = np.argmax(y_pred, axis=1)\n",
        "\n",
        "# 혼동행렬 계산\n",
        "cm = confusion_matrix(y_test, y_pred_labels)\n",
        "\n",
        "class_names = [0, 1, 2]\n",
        "disp = ConfusionMatrixDisplay(confusion_matrix=cm, display_labels=class_names)\n",
        "disp.plot(cmap=plt.cm.Blues)\n",
        "plt.title('Confusion Matrix of Rock-Paper-Scissors Model')\n",
        "plt.show()"
      ],
      "metadata": {
        "colab": {
          "base_uri": "https://localhost:8080/",
          "height": 490
        },
        "id": "XIyP8fxQ316i",
        "outputId": "0fbb045a-ba58-4aaa-9224-cd8d98434966"
      },
      "execution_count": 15,
      "outputs": [
        {
          "output_type": "stream",
          "name": "stdout",
          "text": [
            "\u001b[1m10/10\u001b[0m \u001b[32m━━━━━━━━━━━━━━━━━━━━\u001b[0m\u001b[37m\u001b[0m \u001b[1m0s\u001b[0m 13ms/step\n"
          ]
        },
        {
          "output_type": "display_data",
          "data": {
            "text/plain": [
              "<Figure size 640x480 with 2 Axes>"
            ],
            "image/png": "[encoded data removed]"
          },
          "metadata": {}
        }
      ]
    },
    {
      "cell_type": "code",
      "source": [
        "# 동일 이미지가 있는지 확인 (픽셀 기준 비교)\n",
        "overlap_count = 0\n",
        "for i in range(len(x_test)):\n",
        "    for j in range(len(x_train)):\n",
        "        if np.array_equal(x_test[i], x_train[j]):\n",
        "            overlap_count += 1\n",
        "print(\"Train-Test 데이터 중복 개수:\", overlap_count)"
      ],
      "metadata": {
        "colab": {
          "base_uri": "https://localhost:8080/"
        },
        "id": "AOERe5YT32IG",
        "outputId": "0cd22f51-9762-47da-a2f1-5763f8ffc852"
      },
      "execution_count": 17,
      "outputs": [
        {
          "output_type": "stream",
          "name": "stdout",
          "text": [
            "Train-Test 데이터 중복 개수: 0\n"
          ]
        }
      ]
    },
    {
      "cell_type": "code",
      "source": [
        "import matplotlib.pyplot as plt\n",
        "\n",
        "# 확인할 인덱스를 설정\n",
        "idx = 299\n",
        "\n",
        "# 이미지 출력\n",
        "plt.imshow(x_test[idx], cmap=plt.cm.binary)  # 컬러 이미지는 cmap 생략 가능\n",
        "plt.axis('off')  # 축 없애기\n",
        "plt.title(f\"Label: {y_test[idx]}\")\n",
        "plt.show()"
      ],
      "metadata": {
        "colab": {
          "base_uri": "https://localhost:8080/",
          "height": 428
        },
        "id": "K2mUmovk7JsT",
        "outputId": "f709a640-f00d-4d1a-d6b4-37b0c72e09b3"
      },
      "execution_count": 18,
      "outputs": [
        {
          "output_type": "display_data",
          "data": {
            "text/plain": [
              "<Figure size 640x480 with 1 Axes>"
            ],
            "image/png": "[encoded data removed]"
          },
          "metadata": {}
        }
      ]
    },
    {
      "cell_type": "code",
      "source": [],
      "metadata": {
        "id": "n-SHc3UV7hPY"
      },
      "execution_count": null,
      "outputs": []
    },
    {
      "cell_type": "code",
      "source": [],
      "metadata": {
        "id": "olE0jbVaI-Ml"
      },
      "execution_count": null,
      "outputs": []
    },
    {
      "cell_type": "markdown",
      "source": [
        "## 추가 테스트"
      ],
      "metadata": {
        "id": "ud_DWxBfI-g6"
      }
    },
    {
      "cell_type": "code",
      "source": [
        "# # 압축 해제\n",
        "\n",
        "# !unzip /content/drive/MyDrive/DS/DL/scissor_test2.zip -d 가위_test2\n",
        "# !unzip /content/drive/MyDrive/DS/DL/rock_test2.zip -d 바위_test2\n",
        "# !unzip /content/drive/MyDrive/DS/DL/paper_test2.zip -d 보_test2"
      ],
      "metadata": {
        "colab": {
          "base_uri": "https://localhost:8080/"
        },
        "id": "AXjmvN6MJefC",
        "outputId": "5e5eb495-a686-48e8-e1db-cdd4fd32612f"
      },
      "execution_count": 16,
      "outputs": [
        {
          "output_type": "stream",
          "name": "stdout",
          "text": [
            "Archive:  /content/drive/MyDrive/DS/DL/scissor_test2.zip\n",
            " extracting: 가위_test2/0.jpg      \n",
            " extracting: 가위_test2/1.jpg      \n",
            " extracting: 가위_test2/2.jpg      \n",
            " extracting: 가위_test2/3.jpg      \n",
            " extracting: 가위_test2/4.jpg      \n",
            " extracting: 가위_test2/5.jpg      \n",
            " extracting: 가위_test2/6.jpg      \n",
            " extracting: 가위_test2/7.jpg      \n",
            " extracting: 가위_test2/8.jpg      \n",
            " extracting: 가위_test2/9.jpg      \n",
            " extracting: 가위_test2/10.jpg     \n",
            " extracting: 가위_test2/11.jpg     \n",
            " extracting: 가위_test2/12.jpg     \n",
            " extracting: 가위_test2/13.jpg     \n",
            " extracting: 가위_test2/14.jpg     \n",
            " extracting: 가위_test2/15.jpg     \n",
            " extracting: 가위_test2/16.jpg     \n",
            " extracting: 가위_test2/17.jpg     \n",
            " extracting: 가위_test2/18.jpg     \n",
            " extracting: 가위_test2/19.jpg     \n",
            " extracting: 가위_test2/20.jpg     \n",
            " extracting: 가위_test2/21.jpg     \n",
            " extracting: 가위_test2/22.jpg     \n",
            " extracting: 가위_test2/23.jpg     \n",
            " extracting: 가위_test2/24.jpg     \n",
            " extracting: 가위_test2/25.jpg     \n",
            " extracting: 가위_test2/26.jpg     \n",
            " extracting: 가위_test2/27.jpg     \n",
            " extracting: 가위_test2/28.jpg     \n",
            " extracting: 가위_test2/29.jpg     \n",
            " extracting: 가위_test2/30.jpg     \n",
            " extracting: 가위_test2/31.jpg     \n",
            " extracting: 가위_test2/32.jpg     \n",
            " extracting: 가위_test2/33.jpg     \n",
            " extracting: 가위_test2/34.jpg     \n",
            " extracting: 가위_test2/35.jpg     \n",
            " extracting: 가위_test2/36.jpg     \n",
            " extracting: 가위_test2/37.jpg     \n",
            " extracting: 가위_test2/38.jpg     \n",
            " extracting: 가위_test2/39.jpg     \n",
            " extracting: 가위_test2/40.jpg     \n",
            " extracting: 가위_test2/41.jpg     \n",
            " extracting: 가위_test2/42.jpg     \n",
            " extracting: 가위_test2/43.jpg     \n",
            " extracting: 가위_test2/44.jpg     \n",
            " extracting: 가위_test2/45.jpg     \n",
            " extracting: 가위_test2/46.jpg     \n",
            " extracting: 가위_test2/47.jpg     \n",
            " extracting: 가위_test2/48.jpg     \n",
            " extracting: 가위_test2/49.jpg     \n",
            " extracting: 가위_test2/50.jpg     \n",
            " extracting: 가위_test2/51.jpg     \n",
            " extracting: 가위_test2/52.jpg     \n",
            " extracting: 가위_test2/53.jpg     \n",
            " extracting: 가위_test2/54.jpg     \n",
            " extracting: 가위_test2/55.jpg     \n",
            " extracting: 가위_test2/56.jpg     \n",
            " extracting: 가위_test2/57.jpg     \n",
            " extracting: 가위_test2/58.jpg     \n",
            " extracting: 가위_test2/59.jpg     \n",
            " extracting: 가위_test2/60.jpg     \n",
            " extracting: 가위_test2/61.jpg     \n",
            " extracting: 가위_test2/62.jpg     \n",
            " extracting: 가위_test2/63.jpg     \n",
            " extracting: 가위_test2/64.jpg     \n",
            " extracting: 가위_test2/65.jpg     \n",
            " extracting: 가위_test2/66.jpg     \n",
            " extracting: 가위_test2/67.jpg     \n",
            " extracting: 가위_test2/68.jpg     \n",
            " extracting: 가위_test2/69.jpg     \n",
            " extracting: 가위_test2/70.jpg     \n",
            " extracting: 가위_test2/71.jpg     \n",
            " extracting: 가위_test2/72.jpg     \n",
            " extracting: 가위_test2/73.jpg     \n",
            " extracting: 가위_test2/74.jpg     \n",
            " extracting: 가위_test2/75.jpg     \n",
            " extracting: 가위_test2/76.jpg     \n",
            " extracting: 가위_test2/77.jpg     \n",
            " extracting: 가위_test2/78.jpg     \n",
            " extracting: 가위_test2/79.jpg     \n",
            " extracting: 가위_test2/80.jpg     \n",
            " extracting: 가위_test2/81.jpg     \n",
            " extracting: 가위_test2/82.jpg     \n",
            " extracting: 가위_test2/83.jpg     \n",
            " extracting: 가위_test2/84.jpg     \n",
            " extracting: 가위_test2/85.jpg     \n",
            " extracting: 가위_test2/86.jpg     \n",
            " extracting: 가위_test2/87.jpg     \n",
            " extracting: 가위_test2/88.jpg     \n",
            " extracting: 가위_test2/89.jpg     \n",
            " extracting: 가위_test2/90.jpg     \n",
            " extracting: 가위_test2/91.jpg     \n",
            " extracting: 가위_test2/92.jpg     \n",
            " extracting: 가위_test2/93.jpg     \n",
            " extracting: 가위_test2/94.jpg     \n",
            " extracting: 가위_test2/95.jpg     \n",
            " extracting: 가위_test2/96.jpg     \n",
            " extracting: 가위_test2/97.jpg     \n",
            " extracting: 가위_test2/98.jpg     \n",
            " extracting: 가위_test2/99.jpg     \n",
            "Archive:  /content/drive/MyDrive/DS/DL/rock_test2.zip\n",
            " extracting: 바위_test2/0.jpg      \n",
            " extracting: 바위_test2/1.jpg      \n",
            " extracting: 바위_test2/2.jpg      \n",
            " extracting: 바위_test2/3.jpg      \n",
            " extracting: 바위_test2/4.jpg      \n",
            " extracting: 바위_test2/5.jpg      \n",
            " extracting: 바위_test2/6.jpg      \n",
            " extracting: 바위_test2/7.jpg      \n",
            " extracting: 바위_test2/8.jpg      \n",
            " extracting: 바위_test2/9.jpg      \n",
            " extracting: 바위_test2/10.jpg     \n",
            " extracting: 바위_test2/11.jpg     \n",
            " extracting: 바위_test2/12.jpg     \n",
            " extracting: 바위_test2/13.jpg     \n",
            " extracting: 바위_test2/14.jpg     \n",
            " extracting: 바위_test2/15.jpg     \n",
            " extracting: 바위_test2/16.jpg     \n",
            " extracting: 바위_test2/17.jpg     \n",
            " extracting: 바위_test2/18.jpg     \n",
            " extracting: 바위_test2/19.jpg     \n",
            " extracting: 바위_test2/20.jpg     \n",
            " extracting: 바위_test2/21.jpg     \n",
            " extracting: 바위_test2/22.jpg     \n",
            " extracting: 바위_test2/23.jpg     \n",
            " extracting: 바위_test2/24.jpg     \n",
            " extracting: 바위_test2/25.jpg     \n",
            " extracting: 바위_test2/26.jpg     \n",
            " extracting: 바위_test2/27.jpg     \n",
            " extracting: 바위_test2/28.jpg     \n",
            " extracting: 바위_test2/29.jpg     \n",
            " extracting: 바위_test2/30.jpg     \n",
            " extracting: 바위_test2/31.jpg     \n",
            " extracting: 바위_test2/32.jpg     \n",
            " extracting: 바위_test2/33.jpg     \n",
            " extracting: 바위_test2/34.jpg     \n",
            " extracting: 바위_test2/35.jpg     \n",
            " extracting: 바위_test2/36.jpg     \n",
            " extracting: 바위_test2/37.jpg     \n",
            " extracting: 바위_test2/38.jpg     \n",
            " extracting: 바위_test2/39.jpg     \n",
            " extracting: 바위_test2/40.jpg     \n",
            " extracting: 바위_test2/41.jpg     \n",
            " extracting: 바위_test2/42.jpg     \n",
            " extracting: 바위_test2/43.jpg     \n",
            " extracting: 바위_test2/44.jpg     \n",
            " extracting: 바위_test2/45.jpg     \n",
            " extracting: 바위_test2/46.jpg     \n",
            " extracting: 바위_test2/47.jpg     \n",
            " extracting: 바위_test2/48.jpg     \n",
            " extracting: 바위_test2/49.jpg     \n",
            " extracting: 바위_test2/50.jpg     \n",
            " extracting: 바위_test2/51.jpg     \n",
            " extracting: 바위_test2/52.jpg     \n",
            " extracting: 바위_test2/53.jpg     \n",
            " extracting: 바위_test2/54.jpg     \n",
            " extracting: 바위_test2/55.jpg     \n",
            " extracting: 바위_test2/56.jpg     \n",
            " extracting: 바위_test2/57.jpg     \n",
            " extracting: 바위_test2/58.jpg     \n",
            " extracting: 바위_test2/59.jpg     \n",
            " extracting: 바위_test2/60.jpg     \n",
            " extracting: 바위_test2/61.jpg     \n",
            " extracting: 바위_test2/62.jpg     \n",
            " extracting: 바위_test2/63.jpg     \n",
            " extracting: 바위_test2/64.jpg     \n",
            " extracting: 바위_test2/65.jpg     \n",
            " extracting: 바위_test2/66.jpg     \n",
            " extracting: 바위_test2/67.jpg     \n",
            " extracting: 바위_test2/68.jpg     \n",
            " extracting: 바위_test2/69.jpg     \n",
            " extracting: 바위_test2/70.jpg     \n",
            " extracting: 바위_test2/71.jpg     \n",
            " extracting: 바위_test2/72.jpg     \n",
            " extracting: 바위_test2/73.jpg     \n",
            " extracting: 바위_test2/74.jpg     \n",
            " extracting: 바위_test2/75.jpg     \n",
            " extracting: 바위_test2/76.jpg     \n",
            " extracting: 바위_test2/77.jpg     \n",
            " extracting: 바위_test2/78.jpg     \n",
            " extracting: 바위_test2/79.jpg     \n",
            " extracting: 바위_test2/80.jpg     \n",
            " extracting: 바위_test2/81.jpg     \n",
            " extracting: 바위_test2/82.jpg     \n",
            " extracting: 바위_test2/83.jpg     \n",
            " extracting: 바위_test2/84.jpg     \n",
            " extracting: 바위_test2/85.jpg     \n",
            " extracting: 바위_test2/86.jpg     \n",
            " extracting: 바위_test2/87.jpg     \n",
            " extracting: 바위_test2/88.jpg     \n",
            " extracting: 바위_test2/89.jpg     \n",
            " extracting: 바위_test2/90.jpg     \n",
            " extracting: 바위_test2/91.jpg     \n",
            " extracting: 바위_test2/92.jpg     \n",
            " extracting: 바위_test2/93.jpg     \n",
            " extracting: 바위_test2/94.jpg     \n",
            " extracting: 바위_test2/95.jpg     \n",
            " extracting: 바위_test2/96.jpg     \n",
            " extracting: 바위_test2/97.jpg     \n",
            " extracting: 바위_test2/98.jpg     \n",
            " extracting: 바위_test2/99.jpg     \n",
            "Archive:  /content/drive/MyDrive/DS/DL/paper_test2.zip\n",
            " extracting: 보_test2/0.jpg         \n",
            " extracting: 보_test2/1.jpg         \n",
            " extracting: 보_test2/2.jpg         \n",
            " extracting: 보_test2/3.jpg         \n",
            " extracting: 보_test2/4.jpg         \n",
            " extracting: 보_test2/5.jpg         \n",
            " extracting: 보_test2/6.jpg         \n",
            " extracting: 보_test2/7.jpg         \n",
            " extracting: 보_test2/8.jpg         \n",
            " extracting: 보_test2/9.jpg         \n",
            " extracting: 보_test2/10.jpg        \n",
            " extracting: 보_test2/11.jpg        \n",
            " extracting: 보_test2/12.jpg        \n",
            " extracting: 보_test2/13.jpg        \n",
            " extracting: 보_test2/14.jpg        \n",
            " extracting: 보_test2/15.jpg        \n",
            " extracting: 보_test2/16.jpg        \n",
            " extracting: 보_test2/17.jpg        \n",
            " extracting: 보_test2/18.jpg        \n",
            " extracting: 보_test2/19.jpg        \n",
            " extracting: 보_test2/20.jpg        \n",
            " extracting: 보_test2/21.jpg        \n",
            " extracting: 보_test2/22.jpg        \n",
            " extracting: 보_test2/23.jpg        \n",
            " extracting: 보_test2/24.jpg        \n",
            " extracting: 보_test2/25.jpg        \n",
            " extracting: 보_test2/26.jpg        \n",
            " extracting: 보_test2/27.jpg        \n",
            " extracting: 보_test2/28.jpg        \n",
            " extracting: 보_test2/29.jpg        \n",
            " extracting: 보_test2/30.jpg        \n",
            " extracting: 보_test2/31.jpg        \n",
            " extracting: 보_test2/32.jpg        \n",
            " extracting: 보_test2/33.jpg        \n",
            " extracting: 보_test2/34.jpg        \n",
            " extracting: 보_test2/35.jpg        \n",
            " extracting: 보_test2/36.jpg        \n",
            " extracting: 보_test2/37.jpg        \n",
            " extracting: 보_test2/38.jpg        \n",
            " extracting: 보_test2/39.jpg        \n",
            " extracting: 보_test2/40.jpg        \n",
            " extracting: 보_test2/41.jpg        \n",
            " extracting: 보_test2/42.jpg        \n",
            " extracting: 보_test2/43.jpg        \n",
            " extracting: 보_test2/44.jpg        \n",
            " extracting: 보_test2/45.jpg        \n",
            " extracting: 보_test2/46.jpg        \n",
            " extracting: 보_test2/47.jpg        \n",
            " extracting: 보_test2/48.jpg        \n",
            " extracting: 보_test2/49.jpg        \n",
            " extracting: 보_test2/50.jpg        \n",
            " extracting: 보_test2/51.jpg        \n",
            " extracting: 보_test2/52.jpg        \n",
            " extracting: 보_test2/53.jpg        \n",
            " extracting: 보_test2/54.jpg        \n",
            " extracting: 보_test2/55.jpg        \n",
            " extracting: 보_test2/56.jpg        \n",
            " extracting: 보_test2/57.jpg        \n",
            " extracting: 보_test2/58.jpg        \n",
            " extracting: 보_test2/59.jpg        \n",
            " extracting: 보_test2/60.jpg        \n",
            " extracting: 보_test2/61.jpg        \n",
            " extracting: 보_test2/62.jpg        \n",
            " extracting: 보_test2/63.jpg        \n",
            " extracting: 보_test2/64.jpg        \n",
            " extracting: 보_test2/65.jpg        \n",
            " extracting: 보_test2/66.jpg        \n",
            " extracting: 보_test2/67.jpg        \n",
            " extracting: 보_test2/68.jpg        \n",
            " extracting: 보_test2/69.jpg        \n",
            " extracting: 보_test2/70.jpg        \n",
            " extracting: 보_test2/71.jpg        \n",
            " extracting: 보_test2/72.jpg        \n",
            " extracting: 보_test2/73.jpg        \n",
            " extracting: 보_test2/74.jpg        \n",
            " extracting: 보_test2/75.jpg        \n",
            " extracting: 보_test2/76.jpg        \n",
            " extracting: 보_test2/77.jpg        \n",
            " extracting: 보_test2/78.jpg        \n",
            " extracting: 보_test2/79.jpg        \n",
            " extracting: 보_test2/80.jpg        \n",
            " extracting: 보_test2/81.jpg        \n",
            " extracting: 보_test2/82.jpg        \n",
            " extracting: 보_test2/83.jpg        \n",
            " extracting: 보_test2/84.jpg        \n",
            " extracting: 보_test2/85.jpg        \n",
            " extracting: 보_test2/86.jpg        \n",
            " extracting: 보_test2/87.jpg        \n",
            " extracting: 보_test2/88.jpg        \n",
            " extracting: 보_test2/89.jpg        \n",
            " extracting: 보_test2/90.jpg        \n",
            " extracting: 보_test2/91.jpg        \n",
            " extracting: 보_test2/92.jpg        \n",
            " extracting: 보_test2/93.jpg        \n",
            " extracting: 보_test2/94.jpg        \n",
            " extracting: 보_test2/95.jpg        \n",
            " extracting: 보_test2/96.jpg        \n",
            " extracting: 보_test2/97.jpg        \n",
            " extracting: 보_test2/98.jpg        \n",
            " extracting: 보_test2/99.jpg        \n"
          ]
        }
      ]
    },
    {
      "cell_type": "code",
      "source": [
        "test_image_dir_path = './가위_test2'\n",
        "resize_images(test_image_dir_path)\n",
        "\n",
        "test_image_dir_path = './바위_test2'\n",
        "resize_images(test_image_dir_path)\n",
        "\n",
        "test_image_dir_path = './보_test2'\n",
        "resize_images(test_image_dir_path)\n",
        "\n",
        "# 테스트 데이터 로드 (가위: 0, 바위: 1, 보: 2)\n",
        "# : 이미지 데이터를 배열로 읽고 라벨링\n",
        "test_image_dir_path = '.'\n",
        "(x_test, y_test) = load_data(test_image_dir_path, ['가위_test2', '바위_test2', '보_test2'])\n",
        "# # 정규화: 이미지 픽셀 값을 0~1 사이로 스케일링\n",
        "x_test_norm = x_test/255.0\n",
        "# 테스트 이미지와 라벨 데이터의 shape 출력\n",
        "print('x_test shape: {}'.format(x_test.shape))  # 이미지 데이터 (개수, 높이, 너비, 채널 수)\n",
        "print('y_test shape: {}'.format(y_test.shape))  # 정답 라벨 데이터 (개수,)"
      ],
      "metadata": {
        "colab": {
          "base_uri": "https://localhost:8080/"
        },
        "id": "q4Uv6btoJIEa",
        "outputId": "492b528e-33df-4702-a014-c6964bb2dca0"
      },
      "execution_count": 17,
      "outputs": [
        {
          "output_type": "stream",
          "name": "stdout",
          "text": [
            "100  images to be resized.\n",
            "100  images resized.\n",
            "100  images to be resized.\n",
            "100  images resized.\n",
            "100  images to be resized.\n",
            "100  images resized.\n",
            "데이터의 이미지 개수: 300\n",
            "x_test shape: (300, 28, 28, 3)\n",
            "y_test shape: (300,)\n"
          ]
        }
      ]
    },
    {
      "cell_type": "code",
      "source": [
        "# 테스트 데이터로 모델 성능 평가: 손실값, 정확도 return\n",
        "test_loss, test_accuracy = model.evaluate(x_test, y_test, verbose=2)\n",
        "print('test_loss: {} '.format(test_loss))\n",
        "print('test_accuracy: {}'.format(test_accuracy))"
      ],
      "metadata": {
        "colab": {
          "base_uri": "https://localhost:8080/"
        },
        "id": "n7izwrEAJKVt",
        "outputId": "7c4adc02-f335-4020-8f61-6798c58434f5"
      },
      "execution_count": 18,
      "outputs": [
        {
          "output_type": "stream",
          "name": "stdout",
          "text": [
            "10/10 - 0s - 28ms/step - accuracy: 0.3667 - loss: 9.7831\n",
            "test_loss: 9.783102035522461 \n",
            "test_accuracy: 0.36666667461395264\n"
          ]
        }
      ]
    },
    {
      "cell_type": "code",
      "source": [
        "import numpy as np\n",
        "import matplotlib.pyplot as plt\n",
        "from sklearn.metrics import confusion_matrix, ConfusionMatrixDisplay\n",
        "\n",
        "# 모델이 예측한 클래스 라벨 (확률에서 가장 높은 값 선택)\n",
        "y_pred = model.predict(x_test_norm)\n",
        "y_pred_labels = np.argmax(y_pred, axis=1)\n",
        "\n",
        "# 혼동행렬 계산\n",
        "cm = confusion_matrix(y_test, y_pred_labels)\n",
        "\n",
        "class_names = [0, 1, 2]\n",
        "disp = ConfusionMatrixDisplay(confusion_matrix=cm, display_labels=class_names)\n",
        "disp.plot(cmap=plt.cm.Blues)\n",
        "plt.title('Confusion Matrix of Rock-Paper-Scissors Model')\n",
        "plt.show()"
      ],
      "metadata": {
        "colab": {
          "base_uri": "https://localhost:8080/",
          "height": 490
        },
        "id": "taXg76WBJN1b",
        "outputId": "94b54d19-4332-4f4b-bb00-bc0cbf5dd592"
      },
      "execution_count": 19,
      "outputs": [
        {
          "output_type": "stream",
          "name": "stdout",
          "text": [
            "\u001b[1m10/10\u001b[0m \u001b[32m━━━━━━━━━━━━━━━━━━━━\u001b[0m\u001b[37m\u001b[0m \u001b[1m0s\u001b[0m 15ms/step\n"
          ]
        },
        {
          "output_type": "display_data",
          "data": {
            "text/plain": [
              "<Figure size 640x480 with 2 Axes>"
            ],
            "image/png": "[encoded data removed]"
          },
          "metadata": {}
        }
      ]
    },
    {
      "cell_type": "code",
      "source": [
        "# 동일 이미지가 있는지 확인 (픽셀 기준 비교)\n",
        "overlap_count = 0\n",
        "for i in range(len(x_test)):\n",
        "    for j in range(len(x_train)):\n",
        "        if np.array_equal(x_test[i], x_train[j]):\n",
        "            overlap_count += 1\n",
        "print(\"Train-Test 데이터 중복 개수:\", overlap_count)"
      ],
      "metadata": {
        "colab": {
          "base_uri": "https://localhost:8080/"
        },
        "id": "DmQU7Q0_JPPP",
        "outputId": "71afd2ca-c4e1-4344-db77-431980efd092"
      },
      "execution_count": 20,
      "outputs": [
        {
          "output_type": "stream",
          "name": "stdout",
          "text": [
            "Train-Test 데이터 중복 개수: 0\n"
          ]
        }
      ]
    },
    {
      "cell_type": "code",
      "source": [],
      "metadata": {
        "id": "J_H--262KFV_"
      },
      "execution_count": null,
      "outputs": []
    },
    {
      "cell_type": "code",
      "source": [],
      "metadata": {
        "id": "PG0Hd_zIOmng"
      },
      "execution_count": null,
      "outputs": []
    },
    {
      "cell_type": "code",
      "source": [],
      "metadata": {
        "id": "oWt5THhZOmjG"
      },
      "execution_count": null,
      "outputs": []
    },
    {
      "cell_type": "code",
      "source": [],
      "metadata": {
        "id": "zcPTNffKOmbB"
      },
      "execution_count": null,
      "outputs": []
    },
    {
      "cell_type": "code",
      "source": [
        "# 압축 해제\n",
        "\n",
        "!unzip /content/drive/MyDrive/DS/DL/scissor_test3.zip -d 가위_test3\n",
        "!unzip /content/drive/MyDrive/DS/DL/rock_test3.zip -d 바위_test3\n",
        "!unzip /content/drive/MyDrive/DS/DL/paper_test3.zip -d 보_test3"
      ],
      "metadata": {
        "colab": {
          "base_uri": "https://localhost:8080/"
        },
        "id": "a2Z5eujsOm6Q",
        "outputId": "b1a25abf-14c8-42fe-b540-12e4bee27df9"
      },
      "execution_count": 27,
      "outputs": [
        {
          "output_type": "stream",
          "name": "stdout",
          "text": [
            "Archive:  /content/drive/MyDrive/DS/DL/scissor_test3.zip\n",
            "  inflating: 가위_test3/18.jpg     \n",
            "  inflating: 가위_test3/19.jpg     \n",
            "  inflating: 가위_test3/20.jpg     \n",
            "  inflating: 가위_test3/21.jpg     \n",
            "  inflating: 가위_test3/22.jpg     \n",
            "  inflating: 가위_test3/23.jpg     \n",
            "  inflating: 가위_test3/24.jpg     \n",
            "  inflating: 가위_test3/25.jpg     \n",
            "  inflating: 가위_test3/26.jpg     \n",
            "  inflating: 가위_test3/27.jpg     \n",
            "  inflating: 가위_test3/28.jpg     \n",
            "  inflating: 가위_test3/29.jpg     \n",
            "  inflating: 가위_test3/30.jpg     \n",
            "  inflating: 가위_test3/31.jpg     \n",
            "  inflating: 가위_test3/32.jpg     \n",
            "  inflating: 가위_test3/33.jpg     \n",
            "  inflating: 가위_test3/34.jpg     \n",
            "  inflating: 가위_test3/35.jpg     \n",
            "  inflating: 가위_test3/36.jpg     \n",
            "  inflating: 가위_test3/37.jpg     \n",
            "  inflating: 가위_test3/38.jpg     \n",
            "  inflating: 가위_test3/39.jpg     \n",
            "  inflating: 가위_test3/40.jpg     \n",
            "  inflating: 가위_test3/41.jpg     \n",
            "  inflating: 가위_test3/42.jpg     \n",
            "  inflating: 가위_test3/43.jpg     \n",
            "  inflating: 가위_test3/44.jpg     \n",
            "  inflating: 가위_test3/45.jpg     \n",
            "  inflating: 가위_test3/46.jpg     \n",
            "  inflating: 가위_test3/47.jpg     \n",
            "  inflating: 가위_test3/48.jpg     \n",
            "  inflating: 가위_test3/49.jpg     \n",
            "  inflating: 가위_test3/50.jpg     \n",
            "  inflating: 가위_test3/51.jpg     \n",
            "  inflating: 가위_test3/52.jpg     \n",
            "  inflating: 가위_test3/53.jpg     \n",
            "  inflating: 가위_test3/54.jpg     \n",
            "  inflating: 가위_test3/55.jpg     \n",
            "  inflating: 가위_test3/56.jpg     \n",
            "  inflating: 가위_test3/57.jpg     \n",
            "  inflating: 가위_test3/58.jpg     \n",
            "  inflating: 가위_test3/59.jpg     \n",
            "  inflating: 가위_test3/60.jpg     \n",
            "  inflating: 가위_test3/61.jpg     \n",
            "  inflating: 가위_test3/62.jpg     \n",
            "  inflating: 가위_test3/63.jpg     \n",
            "  inflating: 가위_test3/64.jpg     \n",
            "  inflating: 가위_test3/65.jpg     \n",
            "  inflating: 가위_test3/66.jpg     \n",
            "  inflating: 가위_test3/67.jpg     \n",
            "  inflating: 가위_test3/68.jpg     \n",
            "  inflating: 가위_test3/69.jpg     \n",
            "  inflating: 가위_test3/70.jpg     \n",
            "  inflating: 가위_test3/71.jpg     \n",
            "  inflating: 가위_test3/72.jpg     \n",
            "  inflating: 가위_test3/73.jpg     \n",
            "  inflating: 가위_test3/74.jpg     \n",
            "  inflating: 가위_test3/75.jpg     \n",
            "  inflating: 가위_test3/76.jpg     \n",
            "  inflating: 가위_test3/77.jpg     \n",
            "  inflating: 가위_test3/78.jpg     \n",
            "  inflating: 가위_test3/79.jpg     \n",
            "  inflating: 가위_test3/80.jpg     \n",
            "  inflating: 가위_test3/81.jpg     \n",
            "  inflating: 가위_test3/82.jpg     \n",
            "  inflating: 가위_test3/83.jpg     \n",
            "  inflating: 가위_test3/0.jpg      \n",
            "  inflating: 가위_test3/1.jpg      \n",
            "  inflating: 가위_test3/2.jpg      \n",
            "  inflating: 가위_test3/3.jpg      \n",
            "  inflating: 가위_test3/4.jpg      \n",
            "  inflating: 가위_test3/5.jpg      \n",
            "  inflating: 가위_test3/6.jpg      \n",
            "  inflating: 가위_test3/7.jpg      \n",
            "  inflating: 가위_test3/8.jpg      \n",
            "  inflating: 가위_test3/9.jpg      \n",
            "  inflating: 가위_test3/10.jpg     \n",
            "  inflating: 가위_test3/11.jpg     \n",
            "  inflating: 가위_test3/12.jpg     \n",
            "  inflating: 가위_test3/13.jpg     \n",
            "  inflating: 가위_test3/14.jpg     \n",
            "  inflating: 가위_test3/15.jpg     \n",
            "  inflating: 가위_test3/16.jpg     \n",
            "  inflating: 가위_test3/17.jpg     \n",
            "Archive:  /content/drive/MyDrive/DS/DL/rock_test3.zip\n",
            "  inflating: 바위_test3/99.jpg     \n",
            "  inflating: 바위_test3/0.jpg      \n",
            "  inflating: 바위_test3/1.jpg      \n",
            "  inflating: 바위_test3/2.jpg      \n",
            "  inflating: 바위_test3/3.jpg      \n",
            "  inflating: 바위_test3/4.jpg      \n",
            "  inflating: 바위_test3/5.jpg      \n",
            "  inflating: 바위_test3/6.jpg      \n",
            "  inflating: 바위_test3/7.jpg      \n",
            "  inflating: 바위_test3/8.jpg      \n",
            "  inflating: 바위_test3/9.jpg      \n",
            "  inflating: 바위_test3/10.jpg     \n",
            "  inflating: 바위_test3/11.jpg     \n",
            "  inflating: 바위_test3/12.jpg     \n",
            "  inflating: 바위_test3/13.jpg     \n",
            "  inflating: 바위_test3/14.jpg     \n",
            "  inflating: 바위_test3/15.jpg     \n",
            "  inflating: 바위_test3/16.jpg     \n",
            "  inflating: 바위_test3/17.jpg     \n",
            "  inflating: 바위_test3/18.jpg     \n",
            "  inflating: 바위_test3/19.jpg     \n",
            "  inflating: 바위_test3/20.jpg     \n",
            "  inflating: 바위_test3/21.jpg     \n",
            "  inflating: 바위_test3/22.jpg     \n",
            "  inflating: 바위_test3/23.jpg     \n",
            "  inflating: 바위_test3/24.jpg     \n",
            "  inflating: 바위_test3/25.jpg     \n",
            "  inflating: 바위_test3/26.jpg     \n",
            "  inflating: 바위_test3/27.jpg     \n",
            "  inflating: 바위_test3/28.jpg     \n",
            "  inflating: 바위_test3/29.jpg     \n",
            "  inflating: 바위_test3/30.jpg     \n",
            "  inflating: 바위_test3/31.jpg     \n",
            "  inflating: 바위_test3/32.jpg     \n",
            "  inflating: 바위_test3/33.jpg     \n",
            "  inflating: 바위_test3/34.jpg     \n",
            "  inflating: 바위_test3/35.jpg     \n",
            "  inflating: 바위_test3/36.jpg     \n",
            "  inflating: 바위_test3/37.jpg     \n",
            "  inflating: 바위_test3/38.jpg     \n",
            "  inflating: 바위_test3/39.jpg     \n",
            "  inflating: 바위_test3/40.jpg     \n",
            "  inflating: 바위_test3/41.jpg     \n",
            "  inflating: 바위_test3/42.jpg     \n",
            "  inflating: 바위_test3/43.jpg     \n",
            "  inflating: 바위_test3/44.jpg     \n",
            "  inflating: 바위_test3/45.jpg     \n",
            "  inflating: 바위_test3/46.jpg     \n",
            "  inflating: 바위_test3/47.jpg     \n",
            "  inflating: 바위_test3/48.jpg     \n",
            "  inflating: 바위_test3/49.jpg     \n",
            "  inflating: 바위_test3/50.jpg     \n",
            "  inflating: 바위_test3/51.jpg     \n",
            "  inflating: 바위_test3/52.jpg     \n",
            "  inflating: 바위_test3/53.jpg     \n",
            "  inflating: 바위_test3/54.jpg     \n",
            "  inflating: 바위_test3/55.jpg     \n",
            "  inflating: 바위_test3/56.jpg     \n",
            "  inflating: 바위_test3/57.jpg     \n",
            "  inflating: 바위_test3/58.jpg     \n",
            "  inflating: 바위_test3/59.jpg     \n",
            "  inflating: 바위_test3/60.jpg     \n",
            "  inflating: 바위_test3/61.jpg     \n",
            "  inflating: 바위_test3/62.jpg     \n",
            "  inflating: 바위_test3/63.jpg     \n",
            "  inflating: 바위_test3/64.jpg     \n",
            "  inflating: 바위_test3/65.jpg     \n",
            "  inflating: 바위_test3/66.jpg     \n",
            "  inflating: 바위_test3/67.jpg     \n",
            "  inflating: 바위_test3/68.jpg     \n",
            "  inflating: 바위_test3/69.jpg     \n",
            "  inflating: 바위_test3/70.jpg     \n",
            "  inflating: 바위_test3/71.jpg     \n",
            "  inflating: 바위_test3/72.jpg     \n",
            "  inflating: 바위_test3/73.jpg     \n",
            "  inflating: 바위_test3/74.jpg     \n",
            "  inflating: 바위_test3/75.jpg     \n",
            "  inflating: 바위_test3/76.jpg     \n",
            "  inflating: 바위_test3/77.jpg     \n",
            "  inflating: 바위_test3/78.jpg     \n",
            "  inflating: 바위_test3/79.jpg     \n",
            "  inflating: 바위_test3/80.jpg     \n",
            "  inflating: 바위_test3/81.jpg     \n",
            "  inflating: 바위_test3/82.jpg     \n",
            "  inflating: 바위_test3/83.jpg     \n",
            "  inflating: 바위_test3/84.jpg     \n",
            "  inflating: 바위_test3/85.jpg     \n",
            "  inflating: 바위_test3/86.jpg     \n",
            "  inflating: 바위_test3/87.jpg     \n",
            "  inflating: 바위_test3/88.jpg     \n",
            "  inflating: 바위_test3/89.jpg     \n",
            "  inflating: 바위_test3/90.jpg     \n",
            "  inflating: 바위_test3/91.jpg     \n",
            "  inflating: 바위_test3/92.jpg     \n",
            "  inflating: 바위_test3/93.jpg     \n",
            "  inflating: 바위_test3/94.jpg     \n",
            "  inflating: 바위_test3/95.jpg     \n",
            "  inflating: 바위_test3/96.jpg     \n",
            "  inflating: 바위_test3/97.jpg     \n",
            "  inflating: 바위_test3/98.jpg     \n",
            "Archive:  /content/drive/MyDrive/DS/DL/paper_test3.zip\n",
            "  inflating: 보_test3/90.jpg        \n",
            "  inflating: 보_test3/91.jpg        \n",
            "  inflating: 보_test3/92.jpg        \n",
            "  inflating: 보_test3/93.jpg        \n",
            "  inflating: 보_test3/94.jpg        \n",
            "  inflating: 보_test3/95.jpg        \n",
            "  inflating: 보_test3/96.jpg        \n",
            "  inflating: 보_test3/97.jpg        \n",
            "  inflating: 보_test3/98.jpg        \n",
            "  inflating: 보_test3/99.jpg        \n",
            "  inflating: 보_test3/0.jpg         \n",
            "  inflating: 보_test3/1.jpg         \n",
            "  inflating: 보_test3/2.jpg         \n",
            "  inflating: 보_test3/3.jpg         \n",
            "  inflating: 보_test3/4.jpg         \n",
            "  inflating: 보_test3/5.jpg         \n",
            "  inflating: 보_test3/6.jpg         \n",
            "  inflating: 보_test3/7.jpg         \n",
            "  inflating: 보_test3/8.jpg         \n",
            "  inflating: 보_test3/9.jpg         \n",
            "  inflating: 보_test3/10.jpg        \n",
            "  inflating: 보_test3/11.jpg        \n",
            "  inflating: 보_test3/12.jpg        \n",
            "  inflating: 보_test3/13.jpg        \n",
            "  inflating: 보_test3/14.jpg        \n",
            "  inflating: 보_test3/15.jpg        \n",
            "  inflating: 보_test3/16.jpg        \n",
            "  inflating: 보_test3/17.jpg        \n",
            "  inflating: 보_test3/18.jpg        \n",
            "  inflating: 보_test3/19.jpg        \n",
            "  inflating: 보_test3/20.jpg        \n",
            "  inflating: 보_test3/21.jpg        \n",
            "  inflating: 보_test3/22.jpg        \n",
            "  inflating: 보_test3/23.jpg        \n",
            "  inflating: 보_test3/24.jpg        \n",
            "  inflating: 보_test3/25.jpg        \n",
            "  inflating: 보_test3/26.jpg        \n",
            "  inflating: 보_test3/27.jpg        \n",
            "  inflating: 보_test3/28.jpg        \n",
            "  inflating: 보_test3/29.jpg        \n",
            "  inflating: 보_test3/30.jpg        \n",
            "  inflating: 보_test3/31.jpg        \n",
            "  inflating: 보_test3/32.jpg        \n",
            "  inflating: 보_test3/33.jpg        \n",
            "  inflating: 보_test3/34.jpg        \n",
            "  inflating: 보_test3/35.jpg        \n",
            "  inflating: 보_test3/36.jpg        \n",
            "  inflating: 보_test3/37.jpg        \n",
            "  inflating: 보_test3/38.jpg        \n",
            "  inflating: 보_test3/39.jpg        \n",
            "  inflating: 보_test3/40.jpg        \n",
            "  inflating: 보_test3/41.jpg        \n",
            "  inflating: 보_test3/42.jpg        \n",
            "  inflating: 보_test3/43.jpg        \n",
            "  inflating: 보_test3/44.jpg        \n",
            "  inflating: 보_test3/45.jpg        \n",
            "  inflating: 보_test3/46.jpg        \n",
            "  inflating: 보_test3/47.jpg        \n",
            "  inflating: 보_test3/48.jpg        \n",
            "  inflating: 보_test3/49.jpg        \n",
            "  inflating: 보_test3/50.jpg        \n",
            "  inflating: 보_test3/51.jpg        \n",
            "  inflating: 보_test3/52.jpg        \n",
            "  inflating: 보_test3/53.jpg        \n",
            "  inflating: 보_test3/54.jpg        \n",
            "  inflating: 보_test3/55.jpg        \n",
            "  inflating: 보_test3/56.jpg        \n",
            "  inflating: 보_test3/57.jpg        \n",
            "  inflating: 보_test3/58.jpg        \n",
            "  inflating: 보_test3/59.jpg        \n",
            "  inflating: 보_test3/60.jpg        \n",
            "  inflating: 보_test3/61.jpg        \n",
            "  inflating: 보_test3/62.jpg        \n",
            "  inflating: 보_test3/63.jpg        \n",
            "  inflating: 보_test3/64.jpg        \n",
            "  inflating: 보_test3/65.jpg        \n",
            "  inflating: 보_test3/66.jpg        \n",
            "  inflating: 보_test3/67.jpg        \n",
            "  inflating: 보_test3/68.jpg        \n",
            "  inflating: 보_test3/69.jpg        \n",
            "  inflating: 보_test3/70.jpg        \n",
            "  inflating: 보_test3/71.jpg        \n",
            "  inflating: 보_test3/72.jpg        \n",
            "  inflating: 보_test3/73.jpg        \n",
            "  inflating: 보_test3/74.jpg        \n",
            "  inflating: 보_test3/75.jpg        \n",
            "  inflating: 보_test3/76.jpg        \n",
            "  inflating: 보_test3/77.jpg        \n",
            "  inflating: 보_test3/78.jpg        \n",
            "  inflating: 보_test3/79.jpg        \n",
            "  inflating: 보_test3/80.jpg        \n",
            "  inflating: 보_test3/81.jpg        \n",
            "  inflating: 보_test3/82.jpg        \n",
            "  inflating: 보_test3/83.jpg        \n",
            "  inflating: 보_test3/84.jpg        \n",
            "  inflating: 보_test3/85.jpg        \n",
            "  inflating: 보_test3/86.jpg        \n",
            "  inflating: 보_test3/87.jpg        \n",
            "  inflating: 보_test3/88.jpg        \n",
            "  inflating: 보_test3/89.jpg        \n"
          ]
        }
      ]
    },
    {
      "cell_type": "code",
      "source": [
        "test_image_dir_path = './가위_test3'\n",
        "resize_images(test_image_dir_path)\n",
        "\n",
        "test_image_dir_path = './바위_test3'\n",
        "resize_images(test_image_dir_path)\n",
        "\n",
        "test_image_dir_path = './보_test3'\n",
        "resize_images(test_image_dir_path)\n",
        "\n",
        "# 테스트 데이터 로드 (가위: 0, 바위: 1, 보: 2)\n",
        "# : 이미지 데이터를 배열로 읽고 라벨링\n",
        "test_image_dir_path = '.'\n",
        "(x_test, y_test) = load_data(test_image_dir_path, ['가위_test3', '바위_test3', '보_test3'])\n",
        "# # 정규화: 이미지 픽셀 값을 0~1 사이로 스케일링\n",
        "x_test_norm = x_test/255.0\n",
        "# 테스트 이미지와 라벨 데이터의 shape 출력\n",
        "print('x_test shape: {}'.format(x_test.shape))  # 이미지 데이터 (개수, 높이, 너비, 채널 수)\n",
        "print('y_test shape: {}'.format(y_test.shape))  # 정답 라벨 데이터 (개수,)"
      ],
      "metadata": {
        "colab": {
          "base_uri": "https://localhost:8080/"
        },
        "id": "sRLkMCfhOrRP",
        "outputId": "b719ce80-e95d-4479-f2c8-0354bfa0ef03"
      },
      "execution_count": 28,
      "outputs": [
        {
          "output_type": "stream",
          "name": "stdout",
          "text": [
            "84  images to be resized.\n",
            "84  images resized.\n",
            "100  images to be resized.\n",
            "100  images resized.\n",
            "100  images to be resized.\n",
            "100  images resized.\n",
            "데이터의 이미지 개수: 284\n",
            "x_test shape: (284, 28, 28, 3)\n",
            "y_test shape: (284,)\n"
          ]
        }
      ]
    },
    {
      "cell_type": "code",
      "source": [
        "# 테스트 데이터로 모델 성능 평가: 손실값, 정확도 return\n",
        "test_loss, test_accuracy = model.evaluate(x_test, y_test, verbose=2)\n",
        "print('test_loss: {} '.format(test_loss))\n",
        "print('test_accuracy: {}'.format(test_accuracy))"
      ],
      "metadata": {
        "colab": {
          "base_uri": "https://localhost:8080/"
        },
        "id": "mg6h5gfsPHHi",
        "outputId": "4bbd57d4-7bd0-419d-b461-93513c9b1eb4"
      },
      "execution_count": 29,
      "outputs": [
        {
          "output_type": "stream",
          "name": "stdout",
          "text": [
            "9/9 - 0s - 12ms/step - accuracy: 0.2254 - loss: 3.8429\n",
            "test_loss: 3.842881441116333 \n",
            "test_accuracy: 0.22535210847854614\n"
          ]
        }
      ]
    },
    {
      "cell_type": "code",
      "source": [
        "import numpy as np\n",
        "import matplotlib.pyplot as plt\n",
        "from sklearn.metrics import confusion_matrix, ConfusionMatrixDisplay\n",
        "\n",
        "# 모델이 예측한 클래스 라벨 (확률에서 가장 높은 값 선택)\n",
        "y_pred = model.predict(x_test_norm)\n",
        "y_pred_labels = np.argmax(y_pred, axis=1)\n",
        "\n",
        "# 혼동행렬 계산\n",
        "cm = confusion_matrix(y_test, y_pred_labels)\n",
        "\n",
        "class_names = [0, 1, 2]\n",
        "disp = ConfusionMatrixDisplay(confusion_matrix=cm, display_labels=class_names)\n",
        "disp.plot(cmap=plt.cm.Blues)\n",
        "plt.title('Confusion Matrix of Rock-Paper-Scissors Model')\n",
        "plt.show()"
      ],
      "metadata": {
        "colab": {
          "base_uri": "https://localhost:8080/",
          "height": 490
        },
        "id": "ogY9qMrxPNHn",
        "outputId": "17e27361-fa63-44d1-a1e0-ec1b9c435bf1"
      },
      "execution_count": 30,
      "outputs": [
        {
          "output_type": "stream",
          "name": "stdout",
          "text": [
            "\u001b[1m9/9\u001b[0m \u001b[32m━━━━━━━━━━━━━━━━━━━━\u001b[0m\u001b[37m\u001b[0m \u001b[1m0s\u001b[0m 16ms/step\n"
          ]
        },
        {
          "output_type": "display_data",
          "data": {
            "text/plain": [
              "<Figure size 640x480 with 2 Axes>"
            ],
            "image/png": "[encoded data removed]"
          },
          "metadata": {}
        }
      ]
    },
    {
      "cell_type": "code",
      "source": [
        "# 동일 이미지가 있는지 확인 (픽셀 기준 비교)\n",
        "overlap_count = 0\n",
        "for i in range(len(x_test)):\n",
        "    for j in range(len(x_train)):\n",
        "        if np.array_equal(x_test[i], x_train[j]):\n",
        "            overlap_count += 1\n",
        "print(\"Train-Test 데이터 중복 개수:\", overlap_count)"
      ],
      "metadata": {
        "colab": {
          "base_uri": "https://localhost:8080/"
        },
        "id": "Rva-lPpoPOuT",
        "outputId": "e1fcc966-2deb-4738-e98f-fdbaa5c3ad8a"
      },
      "execution_count": 31,
      "outputs": [
        {
          "output_type": "stream",
          "name": "stdout",
          "text": [
            "Train-Test 데이터 중복 개수: 0\n"
          ]
        }
      ]
    },
    {
      "cell_type": "code",
      "source": [],
      "metadata": {
        "id": "hR4fHugZPQE8"
      },
      "execution_count": null,
      "outputs": []
    }
  ]
}